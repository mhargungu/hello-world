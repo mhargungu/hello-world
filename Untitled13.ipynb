{
  "nbformat": 4,
  "nbformat_minor": 0,
  "metadata": {
    "colab": {
      "name": "Untitled13.ipynb",
      "version": "0.3.2",
      "provenance": []
    },
    "kernelspec": {
      "name": "python2",
      "display_name": "Python 2"
    },
    "accelerator": "GPU"
  },
  "cells": [
    {
      "cell_type": "markdown",
      "metadata": {
        "id": "view-in-github",
        "colab_type": "text"
      },
      "source": [
        "[View in Colaboratory](https://colab.research.google.com/github/mhargungu/hello-world/blob/master/Untitled13.ipynb)"
      ]
    },
    {
      "metadata": {
        "id": "KUwC0HVJSX-W",
        "colab_type": "code",
        "colab": {
          "base_uri": "https://localhost:8080/",
          "height": 105
        },
        "outputId": "25803f33-7760-494a-a51e-958dbe6fadec"
      },
      "cell_type": "code",
      "source": [
        " \n",
        "# Install a Drive FUSE wrapper.\n",
        "# https://github.com/astrada/google-drive-ocamlfuse\n",
        "\n",
        "#######  first\n",
        "\n",
        "!apt-get install -y -qq software-properties-common python-software-properties module-init-tools\n",
        "\n",
        "!add-apt-repository -y ppa:alessandro-strada/ppa 2>&1 > /dev/null\n",
        "\n",
        "!apt-get update -qq 2>&1 > /dev/null\n",
        "\n",
        "!apt-get -y install -qq google-drive-ocamlfuse fuse\n",
        "\n",
        "\n",
        "# Generate auth tokens for Colab\n",
        "########  second\n",
        "\n",
        "from google.colab import auth\n",
        "\n",
        "auth.authenticate_user()\n",
        "\n",
        "# Generate creds for the Drive FUSE library.\n",
        "\n",
        "######### third\n",
        "\n",
        "from oauth2client.client import GoogleCredentials\n",
        "\n",
        "creds = GoogleCredentials.get_application_default()\n",
        "\n",
        "import getpass\n",
        "\n",
        "!google-drive-ocamlfuse -headless -id={creds.client_id} -secret={creds.client_secret} < /dev/null 2>&1 | grep URL\n",
        "\n",
        "vcode = getpass.getpass()\n",
        "\n",
        "!echo {vcode} | google-drive-ocamlfuse -headless -id={creds.client_id} -secret={creds.client_secret}\n",
        "\n",
        "# Create a directory and mount Google Drive using that directory.\n",
        "\n",
        "######  fourth\n",
        "\n",
        "!mkdir -p drive\n",
        "\n",
        "!google-drive-ocamlfuse drive # -o nonempty"
      ],
      "execution_count": 1,
      "outputs": [
        {
          "output_type": "stream",
          "text": [
            "Please, open the following URL in a web browser: https://accounts.google.com/o/oauth2/auth?client_id=32555940559.apps.googleusercontent.com&redirect_uri=urn%3Aietf%3Awg%3Aoauth%3A2.0%3Aoob&scope=https%3A%2F%2Fwww.googleapis.com%2Fauth%2Fdrive&response_type=code&access_type=offline&approval_prompt=force\r\n",
            "··········\n",
            "Please, open the following URL in a web browser: https://accounts.google.com/o/oauth2/auth?client_id=32555940559.apps.googleusercontent.com&redirect_uri=urn%3Aietf%3Awg%3Aoauth%3A2.0%3Aoob&scope=https%3A%2F%2Fwww.googleapis.com%2Fauth%2Fdrive&response_type=code&access_type=offline&approval_prompt=force\n",
            "Please enter the verification code: Access token retrieved correctly.\n"
          ],
          "name": "stdout"
        }
      ]
    },
    {
      "metadata": {
        "id": "ty-ZKudPS4x2",
        "colab_type": "code",
        "colab": {
          "base_uri": "https://localhost:8080/",
          "height": 34
        },
        "outputId": "d926eff8-cf3c-4a51-f541-daf7cc64811c"
      },
      "cell_type": "code",
      "source": [
        "import os\n",
        "import numpy as np\n",
        "from keras.preprocessing.image import ImageDataGenerator\n",
        "from keras.applications import VGG16\n",
        "from keras import models\n",
        "from keras import layers\n",
        "from keras import optimizers\n",
        "\n",
        "\n",
        "base_dir = 'drive/cats-and-dogs'\n",
        "\n",
        "train_dir = os.path.join(base_dir, 'train')\n",
        "validation_dir = os.path.join(base_dir, 'valid')\n",
        "test_dir = os.path.join(base_dir, 'test')"
      ],
      "execution_count": 2,
      "outputs": [
        {
          "output_type": "stream",
          "text": [
            "Using TensorFlow backend.\n"
          ],
          "name": "stderr"
        }
      ]
    },
    {
      "metadata": {
        "id": "MZIhQYw5TsHr",
        "colab_type": "code",
        "colab": {}
      },
      "cell_type": "code",
      "source": [
        "datagen = ImageDataGenerator(rescale=1./255)\n",
        "batch_size = 20"
      ],
      "execution_count": 0,
      "outputs": []
    },
    {
      "metadata": {
        "id": "YCGqEjiRT4KP",
        "colab_type": "code",
        "colab": {
          "base_uri": "https://localhost:8080/",
          "height": 88
        },
        "outputId": "cd7e8e84-d87b-4058-bb59-04d7f7f26b3f"
      },
      "cell_type": "code",
      "source": [
        "conv_base = VGG16(weights='imagenet',\n",
        "                  include_top=False,\n",
        "                  input_shape=(500, 500, 3))"
      ],
      "execution_count": 4,
      "outputs": [
        {
          "output_type": "stream",
          "text": [
            "Downloading data from https://github.com/fchollet/deep-learning-models/releases/download/v0.1/vgg16_weights_tf_dim_ordering_tf_kernels_notop.h5\n",
            "58892288/58889256 [==============================] - 4s 0us/step\n",
            "58900480/58889256 [==============================] - 4s 0us/step\n"
          ],
          "name": "stdout"
        }
      ]
    },
    {
      "metadata": {
        "id": "pB9Ei_RsT-Z0",
        "colab_type": "code",
        "colab": {
          "base_uri": "https://localhost:8080/",
          "height": 68
        },
        "outputId": "0c7ffc34-d32f-45a5-89e1-30b9fad3f0ce"
      },
      "cell_type": "code",
      "source": [
        "def extract_features(directory, sample_count):\n",
        "    features = np.zeros(shape=(sample_count, 15, 15, 512))\n",
        "    labels = np.zeros(shape=(sample_count))\n",
        "    generator = datagen.flow_from_directory(\n",
        "        directory,\n",
        "        target_size=(500, 500),\n",
        "        batch_size=batch_size,\n",
        "        class_mode='binary')\n",
        "    i = 0\n",
        "    for inputs_batch, labels_batch in generator:\n",
        "        features_batch = conv_base.predict(inputs_batch)\n",
        "        features[i * batch_size : (i + 1) * batch_size] = features_batch\n",
        "        labels[i * batch_size : (i + 1) * batch_size] = labels_batch\n",
        "        i += 1\n",
        "        if i * batch_size >= sample_count:\n",
        "            # Note that since generators yield data indefinitely in a loop,\n",
        "            # we must `break` after every image has been seen once.\n",
        "            break\n",
        "    return features, labels\n",
        "\n",
        "train_features, train_labels = extract_features(train_dir, 2000)\n",
        "validation_features, validation_labels = extract_features(validation_dir, 1000)\n",
        "test_features, test_labels = extract_features(test_dir, 1000)\n",
        "\n",
        "train_features = np.reshape(train_features, (2000, 15 * 15 * 512))\n",
        "validation_features = np.reshape(validation_features, (1000, 15 * 15 * 512))\n",
        "test_features = np.reshape(test_features, (1000, 15 * 15 * 512))"
      ],
      "execution_count": 12,
      "outputs": [
        {
          "output_type": "stream",
          "text": [
            "Found 2000 images belonging to 2 classes.\n",
            "Found 1000 images belonging to 2 classes.\n",
            "Found 1000 images belonging to 2 classes.\n"
          ],
          "name": "stdout"
        }
      ]
    },
    {
      "metadata": {
        "id": "TxcKm0BGziGv",
        "colab_type": "code",
        "colab": {
          "base_uri": "https://localhost:8080/",
          "height": 1074
        },
        "outputId": "ed203f0a-7406-435c-f795-d686654297a1"
      },
      "cell_type": "code",
      "source": [
        "model = models.Sequential()\n",
        "model.add(layers.Dense(256, activation='relu', input_dim=15 * 15 * 512))\n",
        "model.add(layers.Dropout(0.5))\n",
        "model.add(layers.Dense(1, activation='sigmoid'))\n",
        "\n",
        "model.compile(optimizer=optimizers.RMSprop(lr=2e-5),\n",
        "              loss='binary_crossentropy',\n",
        "              metrics=['acc'])\n",
        "\n",
        "history = model.fit(train_features, train_labels,\n",
        "                    epochs=30,\n",
        "                    batch_size=20,\n",
        "                    validation_data=(validation_features, validation_labels))"
      ],
      "execution_count": 19,
      "outputs": [
        {
          "output_type": "stream",
          "text": [
            "Train on 2000 samples, validate on 1000 samples\n",
            "Epoch 1/30\n",
            "2000/2000 [==============================] - 7s 3ms/step - loss: 0.6074 - acc: 0.6915 - val_loss: 0.4098 - val_acc: 0.8270\n",
            "Epoch 2/30\n",
            "2000/2000 [==============================] - 6s 3ms/step - loss: 0.3832 - acc: 0.8280 - val_loss: 0.3443 - val_acc: 0.8470\n",
            "Epoch 3/30\n",
            "2000/2000 [==============================] - 6s 3ms/step - loss: 0.2863 - acc: 0.8820 - val_loss: 0.3173 - val_acc: 0.8540\n",
            "Epoch 4/30\n",
            " 700/2000 [=========>....................] - ETA: 3s - loss: 0.2323 - acc: 0.8971"
          ],
          "name": "stdout"
        },
        {
          "output_type": "stream",
          "text": [
            "2000/2000 [==============================] - 6s 3ms/step - loss: 0.2431 - acc: 0.8955 - val_loss: 0.3271 - val_acc: 0.8480\n",
            "Epoch 5/30\n",
            "2000/2000 [==============================] - 6s 3ms/step - loss: 0.1830 - acc: 0.9300 - val_loss: 0.2446 - val_acc: 0.8930\n",
            "Epoch 6/30\n",
            "2000/2000 [==============================] - 6s 3ms/step - loss: 0.1637 - acc: 0.9350 - val_loss: 0.2505 - val_acc: 0.8900\n",
            "Epoch 7/30\n",
            "1640/2000 [=======================>......] - ETA: 0s - loss: 0.1328 - acc: 0.9494"
          ],
          "name": "stdout"
        },
        {
          "output_type": "stream",
          "text": [
            "2000/2000 [==============================] - 6s 3ms/step - loss: 0.1322 - acc: 0.9520 - val_loss: 0.5080 - val_acc: 0.7910\n",
            "Epoch 8/30\n",
            "2000/2000 [==============================] - 6s 3ms/step - loss: 0.1022 - acc: 0.9670 - val_loss: 0.2609 - val_acc: 0.8880\n",
            "Epoch 9/30\n",
            "2000/2000 [==============================] - 6s 3ms/step - loss: 0.0879 - acc: 0.9735 - val_loss: 0.2238 - val_acc: 0.9130\n",
            "Epoch 10/30\n",
            "1720/2000 [========================>.....] - ETA: 0s - loss: 0.0743 - acc: 0.9767"
          ],
          "name": "stdout"
        },
        {
          "output_type": "stream",
          "text": [
            "2000/2000 [==============================] - 6s 3ms/step - loss: 0.0751 - acc: 0.9745 - val_loss: 0.2261 - val_acc: 0.9130\n",
            "Epoch 11/30\n",
            "2000/2000 [==============================] - 6s 3ms/step - loss: 0.0619 - acc: 0.9850 - val_loss: 0.3351 - val_acc: 0.8660\n",
            "Epoch 12/30\n",
            "2000/2000 [==============================] - 6s 3ms/step - loss: 0.0482 - acc: 0.9870 - val_loss: 0.2282 - val_acc: 0.9110\n",
            "Epoch 13/30\n",
            "1800/2000 [==========================>...] - ETA: 0s - loss: 0.0400 - acc: 0.9906"
          ],
          "name": "stdout"
        },
        {
          "output_type": "stream",
          "text": [
            "2000/2000 [==============================] - 6s 3ms/step - loss: 0.0425 - acc: 0.9900 - val_loss: 0.2261 - val_acc: 0.9090\n",
            "Epoch 14/30\n",
            "2000/2000 [==============================] - 6s 3ms/step - loss: 0.0375 - acc: 0.9930 - val_loss: 0.2284 - val_acc: 0.9110\n",
            "Epoch 15/30\n",
            "2000/2000 [==============================] - 6s 3ms/step - loss: 0.0346 - acc: 0.9915 - val_loss: 0.2407 - val_acc: 0.9080\n",
            "Epoch 16/30\n",
            "1800/2000 [==========================>...] - ETA: 0s - loss: 0.0287 - acc: 0.9928"
          ],
          "name": "stdout"
        },
        {
          "output_type": "stream",
          "text": [
            "2000/2000 [==============================] - 6s 3ms/step - loss: 0.0274 - acc: 0.9935 - val_loss: 0.2653 - val_acc: 0.8940\n",
            "Epoch 17/30\n",
            "2000/2000 [==============================] - 6s 3ms/step - loss: 0.0211 - acc: 0.9965 - val_loss: 0.2914 - val_acc: 0.8880\n",
            "Epoch 18/30\n",
            "2000/2000 [==============================] - 6s 3ms/step - loss: 0.0204 - acc: 0.9970 - val_loss: 0.2318 - val_acc: 0.9140\n",
            "Epoch 19/30\n",
            "1820/2000 [==========================>...] - ETA: 0s - loss: 0.0148 - acc: 0.9984"
          ],
          "name": "stdout"
        },
        {
          "output_type": "stream",
          "text": [
            "2000/2000 [==============================] - 6s 3ms/step - loss: 0.0154 - acc: 0.9980 - val_loss: 0.2500 - val_acc: 0.9070\n",
            "Epoch 20/30\n",
            "2000/2000 [==============================] - 6s 3ms/step - loss: 0.0128 - acc: 0.9985 - val_loss: 0.2615 - val_acc: 0.8980\n",
            "Epoch 21/30\n",
            "2000/2000 [==============================] - 6s 3ms/step - loss: 0.0107 - acc: 0.9985 - val_loss: 0.4260 - val_acc: 0.8750\n",
            "Epoch 22/30\n",
            "1760/2000 [=========================>....] - ETA: 0s - loss: 0.0082 - acc: 0.9983"
          ],
          "name": "stdout"
        },
        {
          "output_type": "stream",
          "text": [
            "2000/2000 [==============================] - 6s 3ms/step - loss: 0.0082 - acc: 0.9980 - val_loss: 0.2519 - val_acc: 0.9150\n",
            "Epoch 23/30\n",
            "2000/2000 [==============================] - 6s 3ms/step - loss: 0.0082 - acc: 0.9985 - val_loss: 0.2649 - val_acc: 0.9080\n",
            "Epoch 24/30\n",
            "2000/2000 [==============================] - 6s 3ms/step - loss: 0.0057 - acc: 0.9995 - val_loss: 0.2594 - val_acc: 0.9110\n",
            "Epoch 25/30\n",
            "1900/2000 [===========================>..] - ETA: 0s - loss: 0.0062 - acc: 0.9995"
          ],
          "name": "stdout"
        },
        {
          "output_type": "stream",
          "text": [
            "2000/2000 [==============================] - 6s 3ms/step - loss: 0.0060 - acc: 0.9995 - val_loss: 0.2941 - val_acc: 0.9060\n",
            "Epoch 26/30\n",
            "2000/2000 [==============================] - 6s 3ms/step - loss: 0.0053 - acc: 0.9990 - val_loss: 0.2689 - val_acc: 0.9090\n",
            "Epoch 27/30\n",
            "2000/2000 [==============================] - 6s 3ms/step - loss: 0.0050 - acc: 0.9990 - val_loss: 0.2863 - val_acc: 0.9070\n",
            "Epoch 28/30\n",
            "1940/2000 [============================>.] - ETA: 0s - loss: 0.0029 - acc: 1.0000"
          ],
          "name": "stdout"
        },
        {
          "output_type": "stream",
          "text": [
            "2000/2000 [==============================] - 6s 3ms/step - loss: 0.0030 - acc: 1.0000 - val_loss: 0.4110 - val_acc: 0.8850\n",
            "Epoch 29/30\n",
            "2000/2000 [==============================] - 6s 3ms/step - loss: 0.0039 - acc: 0.9995 - val_loss: 0.3210 - val_acc: 0.8920\n",
            "Epoch 30/30\n",
            "2000/2000 [==============================] - 6s 3ms/step - loss: 0.0025 - acc: 1.0000 - val_loss: 0.2766 - val_acc: 0.9090\n"
          ],
          "name": "stdout"
        }
      ]
    },
    {
      "metadata": {
        "id": "7MvGK7jD1Hsk",
        "colab_type": "code",
        "colab": {
          "base_uri": "https://localhost:8080/",
          "height": 707
        },
        "outputId": "142d54b4-43f4-469c-b005-ef91a3afe4fc"
      },
      "cell_type": "code",
      "source": [
        "import matplotlib.pyplot as plt\n",
        "\n",
        "acc = history.history['acc']\n",
        "val_acc = history.history['val_acc']\n",
        "loss = history.history['loss']\n",
        "val_loss = history.history['val_loss']\n",
        "\n",
        "epochs = range(len(acc))\n",
        "\n",
        "plt.plot(epochs, acc, 'bo', label='Training acc')\n",
        "plt.plot(epochs, val_acc, 'b', label='Validation acc')\n",
        "plt.title('Training and validation accuracy')\n",
        "plt.legend()\n",
        "\n",
        "plt.figure()\n",
        "\n",
        "plt.plot(epochs, loss, 'bo', label='Training loss')\n",
        "plt.plot(epochs, val_loss, 'b', label='Validation loss')\n",
        "plt.title('Training and validation loss')\n",
        "plt.legend()\n",
        "\n",
        "plt.show()"
      ],
      "execution_count": 21,
      "outputs": [
        {
          "output_type": "display_data",
          "data": {
            "image/png": "[encoded data removed]",
            "text/plain": [
              "<matplotlib.figure.Figure at 0x7fb063a015d0>"
            ]
          },
          "metadata": {
            "tags": []
          }
        },
        {
          "output_type": "display_data",
          "data": {
            "image/png": "[encoded data removed]",
            "text/plain": [
              "<matplotlib.figure.Figure at 0x7fb06422e6d0>"
            ]
          },
          "metadata": {
            "tags": []
          }
        }
      ]
    },
    {
      "metadata": {
        "id": "mtLLuSaC1d4k",
        "colab_type": "code",
        "colab": {}
      },
      "cell_type": "code",
      "source": [
        "model = models.Sequential()\n",
        "model.add(conv_base)\n",
        "model.add(layers.Flatten())\n",
        "model.add(layers.Dense(256, activation='relu'))\n",
        "model.add(layers.Dense(1, activation='sigmoid'))"
      ],
      "execution_count": 0,
      "outputs": []
    },
    {
      "metadata": {
        "id": "So1BlVtI2X7Q",
        "colab_type": "code",
        "colab": {
          "base_uri": "https://localhost:8080/",
          "height": 34
        },
        "outputId": "2edc6ee7-0f2e-4d23-eabd-68d08825789d"
      },
      "cell_type": "code",
      "source": [
        "print('This is the number of trainable weights '\n",
        "      'before freezing the conv base:', len(model.trainable_weights))"
      ],
      "execution_count": 24,
      "outputs": [
        {
          "output_type": "stream",
          "text": [
            "('This is the number of trainable weights before freezing the conv base:', 30)\n"
          ],
          "name": "stdout"
        }
      ]
    },
    {
      "metadata": {
        "id": "8OqgdLal2iXm",
        "colab_type": "code",
        "colab": {}
      },
      "cell_type": "code",
      "source": [
        "conv_base.trainable = False"
      ],
      "execution_count": 0,
      "outputs": []
    },
    {
      "metadata": {
        "id": "aU04RXI32na4",
        "colab_type": "code",
        "colab": {
          "base_uri": "https://localhost:8080/",
          "height": 34
        },
        "outputId": "fba6f1d5-e7f9-4ad6-b403-0f1cb0e313f5"
      },
      "cell_type": "code",
      "source": [
        "print('This is the number of trainable weights '\n",
        "      'after freezing the conv base:', len(model.trainable_weights))"
      ],
      "execution_count": 26,
      "outputs": [
        {
          "output_type": "stream",
          "text": [
            "('This is the number of trainable weights after freezing the conv base:', 4)\n"
          ],
          "name": "stdout"
        }
      ]
    },
    {
      "metadata": {
        "id": "6Ck8I_-C25AU",
        "colab_type": "code",
        "colab": {}
      },
      "cell_type": "code",
      "source": [
        "model.save('cats_and_dogs_small_3.h5')"
      ],
      "execution_count": 0,
      "outputs": []
    },
    {
      "metadata": {
        "id": "UAuPKm2yCLJ7",
        "colab_type": "code",
        "colab": {}
      },
      "cell_type": "code",
      "source": [
        ""
      ],
      "execution_count": 0,
      "outputs": []
    }
  ]
}