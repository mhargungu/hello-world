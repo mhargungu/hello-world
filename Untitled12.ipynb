{
  "nbformat": 4,
  "nbformat_minor": 0,
  "metadata": {
    "colab": {
      "name": "Untitled12.ipynb",
      "version": "0.3.2",
      "provenance": []
    },
    "kernelspec": {
      "name": "python2",
      "display_name": "Python 2"
    },
    "accelerator": "GPU"
  },
  "cells": [
    {
      "cell_type": "markdown",
      "metadata": {
        "id": "view-in-github",
        "colab_type": "text"
      },
      "source": [
        "[View in Colaboratory](https://colab.research.google.com/github/mhargungu/hello-world/blob/master/Untitled12.ipynb)"
      ]
    },
    {
      "metadata": {
        "id": "ChVtCLsryeFg",
        "colab_type": "code",
        "colab": {
          "base_uri": "https://localhost:8080/",
          "height": 1938
        },
        "outputId": "457ac32f-9b1c-4aec-de1f-f930a9f22a46"
      },
      "cell_type": "code",
      "source": [
        "!apt-get install -y -qq software-properties-common python-software-properties module-init-tools\n"
      ],
      "execution_count": 5,
      "outputs": [
        {
          "output_type": "stream",
          "text": [
            "Preconfiguring packages ...\n",
            "Selecting previously unselected package cron.\n",
            "(Reading database ... 18298 files and directories currently installed.)\n",
            "Preparing to unpack .../00-cron_3.0pl1-128ubuntu5_amd64.deb ...\n",
            "Unpacking cron (3.0pl1-128ubuntu5) ...\n",
            "Selecting previously unselected package libapparmor1:amd64.\n",
            "Preparing to unpack .../01-libapparmor1_2.11.0-2ubuntu17.1_amd64.deb ...\n",
            "Unpacking libapparmor1:amd64 (2.11.0-2ubuntu17.1) ...\n",
            "Selecting previously unselected package libdbus-1-3:amd64.\n",
            "Preparing to unpack .../02-libdbus-1-3_1.10.22-1ubuntu1_amd64.deb ...\n",
            "Unpacking libdbus-1-3:amd64 (1.10.22-1ubuntu1) ...\n",
            "Selecting previously unselected package dbus.\n",
            "Preparing to unpack .../03-dbus_1.10.22-1ubuntu1_amd64.deb ...\n",
            "Unpacking dbus (1.10.22-1ubuntu1) ...\n",
            "Selecting previously unselected package dirmngr.\n",
            "Preparing to unpack .../04-dirmngr_2.1.15-1ubuntu8_amd64.deb ...\n",
            "Unpacking dirmngr (2.1.15-1ubuntu8) ...\n",
            "Selecting previously unselected package distro-info-data.\n",
            "Preparing to unpack .../05-distro-info-data_0.36ubuntu0.1_all.deb ...\n",
            "Unpacking distro-info-data (0.36ubuntu0.1) ...\n",
            "Selecting previously unselected package libkmod2:amd64.\n",
            "Preparing to unpack .../06-libkmod2_24-1ubuntu2_amd64.deb ...\n",
            "Unpacking libkmod2:amd64 (24-1ubuntu2) ...\n",
            "Selecting previously unselected package kmod.\n",
            "Preparing to unpack .../07-kmod_24-1ubuntu2_amd64.deb ...\n",
            "Unpacking kmod (24-1ubuntu2) ...\n",
            "Selecting previously unselected package lsb-release.\n",
            "Preparing to unpack .../08-lsb-release_9.20160110ubuntu5_all.deb ...\n",
            "Unpacking lsb-release (9.20160110ubuntu5) ...\n",
            "Selecting previously unselected package libgirepository-1.0-1:amd64.\n",
            "Preparing to unpack .../09-libgirepository-1.0-1_1.54.1-1_amd64.deb ...\n",
            "Unpacking libgirepository-1.0-1:amd64 (1.54.1-1) ...\n",
            "Selecting previously unselected package gir1.2-glib-2.0:amd64.\n",
            "Preparing to unpack .../10-gir1.2-glib-2.0_1.54.1-1_amd64.deb ...\n",
            "Unpacking gir1.2-glib-2.0:amd64 (1.54.1-1) ...\n",
            "Selecting previously unselected package iso-codes.\n",
            "Preparing to unpack .../11-iso-codes_3.75-1_all.deb ...\n",
            "Unpacking iso-codes (3.75-1) ...\n",
            "Selecting previously unselected package libdbus-glib-1-2:amd64.\n",
            "Preparing to unpack .../12-libdbus-glib-1-2_0.108-2_amd64.deb ...\n",
            "Unpacking libdbus-glib-1-2:amd64 (0.108-2) ...\n",
            "Selecting previously unselected package python-apt-common.\n",
            "Preparing to unpack .../13-python-apt-common_1.4.0~beta3build2_all.deb ...\n",
            "Unpacking python-apt-common (1.4.0~beta3build2) ...\n",
            "Selecting previously unselected package python3-apt.\n",
            "Preparing to unpack .../14-python3-apt_1.4.0~beta3build2_amd64.deb ...\n",
            "Unpacking python3-apt (1.4.0~beta3build2) ...\n",
            "Selecting previously unselected package python3-dbus.\n",
            "Preparing to unpack .../15-python3-dbus_1.2.4-1build3_amd64.deb ...\n",
            "Unpacking python3-dbus (1.2.4-1build3) ...\n",
            "Selecting previously unselected package python3-gi.\n",
            "Preparing to unpack .../16-python3-gi_3.24.1-2build1_amd64.deb ...\n",
            "Unpacking python3-gi (3.24.1-2build1) ...\n",
            "Selecting previously unselected package module-init-tools.\n",
            "Preparing to unpack .../17-module-init-tools_24-1ubuntu2_all.deb ...\n",
            "Unpacking module-init-tools (24-1ubuntu2) ...\n",
            "Selecting previously unselected package python-apt.\n",
            "Preparing to unpack .../18-python-apt_1.4.0~beta3build2_amd64.deb ...\n",
            "Unpacking python-apt (1.4.0~beta3build2) ...\n",
            "Selecting previously unselected package python-pycurl.\n",
            "Preparing to unpack .../19-python-pycurl_7.43.0-2build2_amd64.deb ...\n",
            "Unpacking python-pycurl (7.43.0-2build2) ...\n",
            "Selecting previously unselected package python-software-properties.\n",
            "Preparing to unpack .../20-python-software-properties_0.96.24.17_all.deb ...\n",
            "Unpacking python-software-properties (0.96.24.17) ...\n",
            "Selecting previously unselected package python3-software-properties.\n",
            "Preparing to unpack .../21-python3-software-properties_0.96.24.17_all.deb ...\n",
            "Unpacking python3-software-properties (0.96.24.17) ...\n",
            "Selecting previously unselected package software-properties-common.\n",
            "Preparing to unpack .../22-software-properties-common_0.96.24.17_all.deb ...\n",
            "Unpacking software-properties-common (0.96.24.17) ...\n",
            "Selecting previously unselected package unattended-upgrades.\n",
            "Preparing to unpack .../23-unattended-upgrades_0.98ubuntu1.1_all.deb ...\n",
            "Unpacking unattended-upgrades (0.98ubuntu1.1) ...\n",
            "Setting up python-apt-common (1.4.0~beta3build2) ...\n",
            "Setting up python3-apt (1.4.0~beta3build2) ...\n",
            "Setting up iso-codes (3.75-1) ...\n",
            "Setting up distro-info-data (0.36ubuntu0.1) ...\n",
            "Setting up python-pycurl (7.43.0-2build2) ...\n",
            "Setting up lsb-release (9.20160110ubuntu5) ...\n",
            "Setting up libgirepository-1.0-1:amd64 (1.54.1-1) ...\n",
            "Setting up libkmod2:amd64 (24-1ubuntu2) ...\n",
            "Setting up gir1.2-glib-2.0:amd64 (1.54.1-1) ...\n",
            "Processing triggers for libc-bin (2.26-0ubuntu2.1) ...\n",
            "Setting up libapparmor1:amd64 (2.11.0-2ubuntu17.1) ...\n",
            "Setting up unattended-upgrades (0.98ubuntu1.1) ...\n",
            "\n",
            "Creating config file /etc/apt/apt.conf.d/20auto-upgrades with new version\n",
            "\n",
            "Creating config file /etc/apt/apt.conf.d/50unattended-upgrades with new version\n"
          ],
          "name": "stdout"
        },
        {
          "output_type": "stream",
          "text": [
            "invoke-rc.d: could not determine current runlevel\r\n",
            "invoke-rc.d: policy-rc.d denied execution of start.\n",
            "Setting up dirmngr (2.1.15-1ubuntu8) ...\n",
            "Setting up cron (3.0pl1-128ubuntu5) ...\n",
            "Adding group `crontab' (GID 102) ...\n",
            "Done.\n",
            "update-rc.d: warning: start and stop actions are no longer supported; falling back to defaults\n",
            "update-rc.d: warning: stop runlevel arguments (1) do not match cron Default-Stop values (none)\n",
            "invoke-rc.d: could not determine current runlevel\n",
            "invoke-rc.d: policy-rc.d denied execution of start.\n",
            "Setting up libdbus-1-3:amd64 (1.10.22-1ubuntu1) ...\n",
            "Setting up kmod (24-1ubuntu2) ...\n",
            "Setting up libdbus-glib-1-2:amd64 (0.108-2) ...\n",
            "Setting up python3-gi (3.24.1-2build1) ...\n",
            "Setting up module-init-tools (24-1ubuntu2) ...\n",
            "Setting up python3-software-properties (0.96.24.17) ...\n",
            "Setting up dbus (1.10.22-1ubuntu1) ...\n",
            "Setting up python-apt (1.4.0~beta3build2) ...\n",
            "Setting up python3-dbus (1.2.4-1build3) ...\n",
            "Setting up python-software-properties (0.96.24.17) ...\n",
            "Setting up software-properties-common (0.96.24.17) ...\n",
            "Processing triggers for libc-bin (2.26-0ubuntu2.1) ...\n",
            "Processing triggers for dbus (1.10.22-1ubuntu1) ...\n"
          ],
          "name": "stdout"
        }
      ]
    },
    {
      "metadata": {
        "id": "_Qz4Ke57zGqx",
        "colab_type": "code",
        "colab": {
          "base_uri": "https://localhost:8080/",
          "height": 119
        },
        "outputId": "f288f27a-917e-4140-b5e8-4b1e6ec01899"
      },
      "cell_type": "code",
      "source": [
        "!add-apt-repository -y ppa:alessandro-strada/ppa 2>&1 > /dev/null"
      ],
      "execution_count": 6,
      "outputs": [
        {
          "output_type": "stream",
          "text": [
            "gpg: keybox '/tmp/tmpf_zgvzzo/pubring.gpg' created\n",
            "gpg: /tmp/tmpf_zgvzzo/trustdb.gpg: trustdb created\n",
            "gpg: key AD5F235DF639B041: public key \"Launchpad PPA for Alessandro Strada\" imported\n",
            "gpg: Total number processed: 1\n",
            "gpg:               imported: 1\n",
            "Warning: apt-key output should not be parsed (stdout is not a terminal)\n"
          ],
          "name": "stdout"
        }
      ]
    },
    {
      "metadata": {
        "id": "u0RtyXSkzMDT",
        "colab_type": "code",
        "colab": {}
      },
      "cell_type": "code",
      "source": [
        "!apt-get update -qq 2>&1 > /dev/null"
      ],
      "execution_count": 0,
      "outputs": []
    },
    {
      "metadata": {
        "id": "g23NafXNzO3Z",
        "colab_type": "code",
        "colab": {
          "base_uri": "https://localhost:8080/",
          "height": 255
        },
        "outputId": "9def3ec6-223f-42a3-b983-035484f18747"
      },
      "cell_type": "code",
      "source": [
        "!apt-get -y install -qq google-drive-ocamlfuse fuse"
      ],
      "execution_count": 8,
      "outputs": [
        {
          "output_type": "stream",
          "text": [
            "Selecting previously unselected package libfuse2:amd64.\n",
            "(Reading database ... 19706 files and directories currently installed.)\n",
            "Preparing to unpack .../libfuse2_2.9.7-1ubuntu1_amd64.deb ...\n",
            "Unpacking libfuse2:amd64 (2.9.7-1ubuntu1) ...\n",
            "Selecting previously unselected package fuse.\n",
            "Preparing to unpack .../fuse_2.9.7-1ubuntu1_amd64.deb ...\n",
            "Unpacking fuse (2.9.7-1ubuntu1) ...\n",
            "Selecting previously unselected package google-drive-ocamlfuse.\n",
            "Preparing to unpack .../google-drive-ocamlfuse_0.6.21-0ubuntu2_amd64.deb ...\n",
            "Unpacking google-drive-ocamlfuse (0.6.21-0ubuntu2) ...\n",
            "Setting up libfuse2:amd64 (2.9.7-1ubuntu1) ...\n",
            "Processing triggers for libc-bin (2.26-0ubuntu2.1) ...\n",
            "Setting up fuse (2.9.7-1ubuntu1) ...\n",
            "Setting up google-drive-ocamlfuse (0.6.21-0ubuntu2) ...\n"
          ],
          "name": "stdout"
        }
      ]
    },
    {
      "metadata": {
        "id": "0CY8GZzHzRy4",
        "colab_type": "code",
        "colab": {}
      },
      "cell_type": "code",
      "source": [
        "from google.colab import auth"
      ],
      "execution_count": 0,
      "outputs": []
    },
    {
      "metadata": {
        "id": "jUrebF7YzVJq",
        "colab_type": "code",
        "colab": {}
      },
      "cell_type": "code",
      "source": [
        "auth.authenticate_user()"
      ],
      "execution_count": 0,
      "outputs": []
    },
    {
      "metadata": {
        "id": "Wi1Zojk8zX8X",
        "colab_type": "code",
        "colab": {}
      },
      "cell_type": "code",
      "source": [
        "from oauth2client.client import GoogleCredentials"
      ],
      "execution_count": 0,
      "outputs": []
    },
    {
      "metadata": {
        "id": "NJayT8k8zmVS",
        "colab_type": "code",
        "colab": {}
      },
      "cell_type": "code",
      "source": [
        "creds = GoogleCredentials.get_application_default()"
      ],
      "execution_count": 0,
      "outputs": []
    },
    {
      "metadata": {
        "id": "8a6PnlukzozR",
        "colab_type": "code",
        "colab": {}
      },
      "cell_type": "code",
      "source": [
        "import getpass"
      ],
      "execution_count": 0,
      "outputs": []
    },
    {
      "metadata": {
        "id": "jthEqt3yzrMB",
        "colab_type": "code",
        "colab": {
          "base_uri": "https://localhost:8080/",
          "height": 54
        },
        "outputId": "b1a0442f-3bcc-460b-8c09-a406d1850029"
      },
      "cell_type": "code",
      "source": [
        "!google-drive-ocamlfuse -headless -id={creds.client_id} -secret={creds.client_secret} < /dev/null 2>&1 | grep URL\n"
      ],
      "execution_count": 14,
      "outputs": [
        {
          "output_type": "stream",
          "text": [
            "Please, open the following URL in a web browser: https://accounts.google.com/o/oauth2/auth?client_id=32555940559.apps.googleusercontent.com&redirect_uri=urn%3Aietf%3Awg%3Aoauth%3A2.0%3Aoob&scope=https%3A%2F%2Fwww.googleapis.com%2Fauth%2Fdrive&response_type=code&access_type=offline&approval_prompt=force\r\n"
          ],
          "name": "stdout"
        }
      ]
    },
    {
      "metadata": {
        "id": "CSe84qlUztvY",
        "colab_type": "code",
        "colab": {
          "base_uri": "https://localhost:8080/",
          "height": 34
        },
        "outputId": "c2055fbc-9839-40d0-ceed-ab2a473681f2"
      },
      "cell_type": "code",
      "source": [
        "vcode = getpass.getpass()"
      ],
      "execution_count": 15,
      "outputs": [
        {
          "output_type": "stream",
          "text": [
            "··········\n"
          ],
          "name": "stdout"
        }
      ]
    },
    {
      "metadata": {
        "id": "_ROOQ3Shzx8n",
        "colab_type": "code",
        "colab": {
          "base_uri": "https://localhost:8080/",
          "height": 71
        },
        "outputId": "e11ef803-d014-443c-d8f8-c8921a68fb7b"
      },
      "cell_type": "code",
      "source": [
        "!echo {vcode} | google-drive-ocamlfuse -headless -id={creds.client_id} -secret={creds.client_secret}\n"
      ],
      "execution_count": 16,
      "outputs": [
        {
          "output_type": "stream",
          "text": [
            "Please, open the following URL in a web browser: https://accounts.google.com/o/oauth2/auth?client_id=32555940559.apps.googleusercontent.com&redirect_uri=urn%3Aietf%3Awg%3Aoauth%3A2.0%3Aoob&scope=https%3A%2F%2Fwww.googleapis.com%2Fauth%2Fdrive&response_type=code&access_type=offline&approval_prompt=force\n",
            "Please enter the verification code: Access token retrieved correctly.\n"
          ],
          "name": "stdout"
        }
      ]
    },
    {
      "metadata": {
        "id": "mbnkP3yn0QhF",
        "colab_type": "code",
        "colab": {}
      },
      "cell_type": "code",
      "source": [
        "!mkdir -p drive"
      ],
      "execution_count": 0,
      "outputs": []
    },
    {
      "metadata": {
        "id": "6vDe46s50VPn",
        "colab_type": "code",
        "colab": {}
      },
      "cell_type": "code",
      "source": [
        "!google-drive-ocamlfuse drive # -o nonempty"
      ],
      "execution_count": 0,
      "outputs": []
    },
    {
      "metadata": {
        "id": "rNFpSpFH0YPE",
        "colab_type": "code",
        "colab": {
          "base_uri": "https://localhost:8080/",
          "height": 34
        },
        "outputId": "47ca7f76-757c-49fd-ce39-b63dcfdd8674"
      },
      "cell_type": "code",
      "source": [
        "print ('Files in Drive:')"
      ],
      "execution_count": 1,
      "outputs": [
        {
          "output_type": "stream",
          "text": [
            "Files in Drive:\n"
          ],
          "name": "stdout"
        }
      ]
    },
    {
      "metadata": {
        "id": "1ovE4W0N0qkn",
        "colab_type": "code",
        "colab": {
          "base_uri": "https://localhost:8080/",
          "height": 34
        },
        "outputId": "500c2531-237c-4827-b8ab-826e8ee18557"
      },
      "cell_type": "code",
      "source": [
        "!ls drive/"
      ],
      "execution_count": 2,
      "outputs": [
        {
          "output_type": "stream",
          "text": [
            "ls: cannot access 'drive/': No such file or directory\r\n"
          ],
          "name": "stdout"
        }
      ]
    },
    {
      "metadata": {
        "id": "j8aJePw60vxY",
        "colab_type": "code",
        "colab": {
          "base_uri": "https://localhost:8080/",
          "height": 2278
        },
        "outputId": "3bca6a58-7961-449d-a64f-0a6a7d21ee67"
      },
      "cell_type": "code",
      "source": [
        "!apt-get install -y -qq software-properties-common python-software-properties module-init-tools\n",
        "\n",
        "!add-apt-repository -y ppa:alessandro-strada/ppa 2>&1 > /dev/null\n",
        "\n",
        "!apt-get update -qq 2>&1 > /dev/null\n",
        "\n",
        "!apt-get -y install -qq google-drive-ocamlfuse fuse"
      ],
      "execution_count": 3,
      "outputs": [
        {
          "output_type": "stream",
          "text": [
            "Preconfiguring packages ...\n",
            "Selecting previously unselected package cron.\n",
            "(Reading database ... 18298 files and directories currently installed.)\n",
            "Preparing to unpack .../00-cron_3.0pl1-128ubuntu5_amd64.deb ...\n",
            "Unpacking cron (3.0pl1-128ubuntu5) ...\n",
            "Selecting previously unselected package libapparmor1:amd64.\n",
            "Preparing to unpack .../01-libapparmor1_2.11.0-2ubuntu17.1_amd64.deb ...\n",
            "Unpacking libapparmor1:amd64 (2.11.0-2ubuntu17.1) ...\n",
            "Selecting previously unselected package libdbus-1-3:amd64.\n",
            "Preparing to unpack .../02-libdbus-1-3_1.10.22-1ubuntu1_amd64.deb ...\n",
            "Unpacking libdbus-1-3:amd64 (1.10.22-1ubuntu1) ...\n",
            "Selecting previously unselected package dbus.\n",
            "Preparing to unpack .../03-dbus_1.10.22-1ubuntu1_amd64.deb ...\n",
            "Unpacking dbus (1.10.22-1ubuntu1) ...\n",
            "Selecting previously unselected package dirmngr.\n",
            "Preparing to unpack .../04-dirmngr_2.1.15-1ubuntu8_amd64.deb ...\n",
            "Unpacking dirmngr (2.1.15-1ubuntu8) ...\n",
            "Selecting previously unselected package distro-info-data.\n",
            "Preparing to unpack .../05-distro-info-data_0.36ubuntu0.1_all.deb ...\n",
            "Unpacking distro-info-data (0.36ubuntu0.1) ...\n",
            "Selecting previously unselected package libkmod2:amd64.\n",
            "Preparing to unpack .../06-libkmod2_24-1ubuntu2_amd64.deb ...\n",
            "Unpacking libkmod2:amd64 (24-1ubuntu2) ...\n",
            "Selecting previously unselected package kmod.\n",
            "Preparing to unpack .../07-kmod_24-1ubuntu2_amd64.deb ...\n",
            "Unpacking kmod (24-1ubuntu2) ...\n",
            "Selecting previously unselected package lsb-release.\n",
            "Preparing to unpack .../08-lsb-release_9.20160110ubuntu5_all.deb ...\n",
            "Unpacking lsb-release (9.20160110ubuntu5) ...\n",
            "Selecting previously unselected package libgirepository-1.0-1:amd64.\n",
            "Preparing to unpack .../09-libgirepository-1.0-1_1.54.1-1_amd64.deb ...\n",
            "Unpacking libgirepository-1.0-1:amd64 (1.54.1-1) ...\n",
            "Selecting previously unselected package gir1.2-glib-2.0:amd64.\n",
            "Preparing to unpack .../10-gir1.2-glib-2.0_1.54.1-1_amd64.deb ...\n",
            "Unpacking gir1.2-glib-2.0:amd64 (1.54.1-1) ...\n",
            "Selecting previously unselected package iso-codes.\n",
            "Preparing to unpack .../11-iso-codes_3.75-1_all.deb ...\n",
            "Unpacking iso-codes (3.75-1) ...\n",
            "Selecting previously unselected package libdbus-glib-1-2:amd64.\n",
            "Preparing to unpack .../12-libdbus-glib-1-2_0.108-2_amd64.deb ...\n",
            "Unpacking libdbus-glib-1-2:amd64 (0.108-2) ...\n",
            "Selecting previously unselected package python-apt-common.\n",
            "Preparing to unpack .../13-python-apt-common_1.4.0~beta3build2_all.deb ...\n",
            "Unpacking python-apt-common (1.4.0~beta3build2) ...\n",
            "Selecting previously unselected package python3-apt.\n",
            "Preparing to unpack .../14-python3-apt_1.4.0~beta3build2_amd64.deb ...\n",
            "Unpacking python3-apt (1.4.0~beta3build2) ...\n",
            "Selecting previously unselected package python3-dbus.\n",
            "Preparing to unpack .../15-python3-dbus_1.2.4-1build3_amd64.deb ...\n",
            "Unpacking python3-dbus (1.2.4-1build3) ...\n",
            "Selecting previously unselected package python3-gi.\n",
            "Preparing to unpack .../16-python3-gi_3.24.1-2build1_amd64.deb ...\n",
            "Unpacking python3-gi (3.24.1-2build1) ...\n",
            "Selecting previously unselected package module-init-tools.\n",
            "Preparing to unpack .../17-module-init-tools_24-1ubuntu2_all.deb ...\n",
            "Unpacking module-init-tools (24-1ubuntu2) ...\n",
            "Selecting previously unselected package python-apt.\n",
            "Preparing to unpack .../18-python-apt_1.4.0~beta3build2_amd64.deb ...\n",
            "Unpacking python-apt (1.4.0~beta3build2) ...\n",
            "Selecting previously unselected package python-pycurl.\n",
            "Preparing to unpack .../19-python-pycurl_7.43.0-2build2_amd64.deb ...\n",
            "Unpacking python-pycurl (7.43.0-2build2) ...\n",
            "Selecting previously unselected package python-software-properties.\n",
            "Preparing to unpack .../20-python-software-properties_0.96.24.17_all.deb ...\n",
            "Unpacking python-software-properties (0.96.24.17) ...\n",
            "Selecting previously unselected package python3-software-properties.\n",
            "Preparing to unpack .../21-python3-software-properties_0.96.24.17_all.deb ...\n",
            "Unpacking python3-software-properties (0.96.24.17) ...\n",
            "Selecting previously unselected package software-properties-common.\n",
            "Preparing to unpack .../22-software-properties-common_0.96.24.17_all.deb ...\n",
            "Unpacking software-properties-common (0.96.24.17) ...\n",
            "Selecting previously unselected package unattended-upgrades.\n",
            "Preparing to unpack .../23-unattended-upgrades_0.98ubuntu1.1_all.deb ...\n",
            "Unpacking unattended-upgrades (0.98ubuntu1.1) ...\n",
            "Setting up python-apt-common (1.4.0~beta3build2) ...\n",
            "Setting up python3-apt (1.4.0~beta3build2) ...\n",
            "Setting up iso-codes (3.75-1) ...\n",
            "Setting up distro-info-data (0.36ubuntu0.1) ...\n",
            "Setting up python-pycurl (7.43.0-2build2) ...\n",
            "Setting up lsb-release (9.20160110ubuntu5) ...\n",
            "Setting up libgirepository-1.0-1:amd64 (1.54.1-1) ...\n",
            "Setting up libkmod2:amd64 (24-1ubuntu2) ...\n",
            "Setting up gir1.2-glib-2.0:amd64 (1.54.1-1) ...\n",
            "Processing triggers for libc-bin (2.26-0ubuntu2.1) ...\n",
            "Setting up libapparmor1:amd64 (2.11.0-2ubuntu17.1) ...\n",
            "Setting up unattended-upgrades (0.98ubuntu1.1) ...\n",
            "\n",
            "Creating config file /etc/apt/apt.conf.d/20auto-upgrades with new version\n",
            "\n",
            "Creating config file /etc/apt/apt.conf.d/50unattended-upgrades with new version\n"
          ],
          "name": "stdout"
        },
        {
          "output_type": "stream",
          "text": [
            "invoke-rc.d: could not determine current runlevel\n",
            "invoke-rc.d: policy-rc.d denied execution of start.\n",
            "Setting up dirmngr (2.1.15-1ubuntu8) ...\n",
            "Setting up cron (3.0pl1-128ubuntu5) ...\n",
            "Adding group `crontab' (GID 102) ...\n",
            "Done.\n",
            "update-rc.d: warning: start and stop actions are no longer supported; falling back to defaults\n",
            "update-rc.d: warning: stop runlevel arguments (1) do not match cron Default-Stop values (none)\n",
            "invoke-rc.d: could not determine current runlevel\n",
            "invoke-rc.d: policy-rc.d denied execution of start.\n",
            "Setting up libdbus-1-3:amd64 (1.10.22-1ubuntu1) ...\n",
            "Setting up kmod (24-1ubuntu2) ...\n",
            "Setting up libdbus-glib-1-2:amd64 (0.108-2) ...\n",
            "Setting up python3-gi (3.24.1-2build1) ...\n",
            "Setting up module-init-tools (24-1ubuntu2) ...\n",
            "Setting up python3-software-properties (0.96.24.17) ...\n",
            "Setting up dbus (1.10.22-1ubuntu1) ...\n",
            "Setting up python-apt (1.4.0~beta3build2) ...\n",
            "Setting up python3-dbus (1.2.4-1build3) ...\n",
            "Setting up python-software-properties (0.96.24.17) ...\n",
            "Setting up software-properties-common (0.96.24.17) ...\n",
            "Processing triggers for libc-bin (2.26-0ubuntu2.1) ...\n",
            "Processing triggers for dbus (1.10.22-1ubuntu1) ...\n",
            "gpg: keybox '/tmp/tmp5z6gv1xw/pubring.gpg' created\n",
            "gpg: /tmp/tmp5z6gv1xw/trustdb.gpg: trustdb created\n",
            "gpg: key AD5F235DF639B041: public key \"Launchpad PPA for Alessandro Strada\" imported\n",
            "gpg: Total number processed: 1\n",
            "gpg:               imported: 1\n",
            "Warning: apt-key output should not be parsed (stdout is not a terminal)\n",
            "Selecting previously unselected package libfuse2:amd64.\n",
            "(Reading database ... 19706 files and directories currently installed.)\n",
            "Preparing to unpack .../libfuse2_2.9.7-1ubuntu1_amd64.deb ...\n",
            "Unpacking libfuse2:amd64 (2.9.7-1ubuntu1) ...\n",
            "Selecting previously unselected package fuse.\n",
            "Preparing to unpack .../fuse_2.9.7-1ubuntu1_amd64.deb ...\n",
            "Unpacking fuse (2.9.7-1ubuntu1) ...\n",
            "Selecting previously unselected package google-drive-ocamlfuse.\n",
            "Preparing to unpack .../google-drive-ocamlfuse_0.6.21-0ubuntu2_amd64.deb ...\n",
            "Unpacking google-drive-ocamlfuse (0.6.21-0ubuntu2) ...\n",
            "Setting up libfuse2:amd64 (2.9.7-1ubuntu1) ...\n",
            "Processing triggers for libc-bin (2.26-0ubuntu2.1) ...\n",
            "Setting up fuse (2.9.7-1ubuntu1) ...\n",
            "Setting up google-drive-ocamlfuse (0.6.21-0ubuntu2) ...\n"
          ],
          "name": "stdout"
        }
      ]
    },
    {
      "metadata": {
        "id": "UDj96ndd1BFG",
        "colab_type": "code",
        "colab": {}
      },
      "cell_type": "code",
      "source": [
        "from google.colab import auth\n",
        "\n",
        "auth.authenticate_user()"
      ],
      "execution_count": 0,
      "outputs": []
    },
    {
      "metadata": {
        "id": "Iu4ilhMR1Ncq",
        "colab_type": "code",
        "colab": {
          "base_uri": "https://localhost:8080/",
          "height": 105
        },
        "outputId": "908bd624-44b0-4d5a-8ed7-3818898e766c"
      },
      "cell_type": "code",
      "source": [
        "from oauth2client.client import GoogleCredentials\n",
        "\n",
        "creds = GoogleCredentials.get_application_default()\n",
        "\n",
        "import getpass\n",
        "\n",
        "!google-drive-ocamlfuse -headless -id={creds.client_id} -secret={creds.client_secret} < /dev/null 2>&1 | grep URL\n",
        "\n",
        "vcode = getpass.getpass()\n",
        "\n",
        "!echo {vcode} | google-drive-ocamlfuse -headless -id={creds.client_id} -secret={creds.client_secret}\n"
      ],
      "execution_count": 5,
      "outputs": [
        {
          "output_type": "stream",
          "text": [
            "Please, open the following URL in a web browser: https://accounts.google.com/o/oauth2/auth?client_id=32555940559.apps.googleusercontent.com&redirect_uri=urn%3Aietf%3Awg%3Aoauth%3A2.0%3Aoob&scope=https%3A%2F%2Fwww.googleapis.com%2Fauth%2Fdrive&response_type=code&access_type=offline&approval_prompt=force\r\n",
            "··········\n",
            "Please, open the following URL in a web browser: https://accounts.google.com/o/oauth2/auth?client_id=32555940559.apps.googleusercontent.com&redirect_uri=urn%3Aietf%3Awg%3Aoauth%3A2.0%3Aoob&scope=https%3A%2F%2Fwww.googleapis.com%2Fauth%2Fdrive&response_type=code&access_type=offline&approval_prompt=force\n",
            "Please enter the verification code: Access token retrieved correctly.\n"
          ],
          "name": "stdout"
        }
      ]
    },
    {
      "metadata": {
        "id": "qjM-wzIL1pkq",
        "colab_type": "code",
        "colab": {}
      },
      "cell_type": "code",
      "source": [
        "!mkdir -p drive\n",
        "\n",
        "!google-drive-ocamlfuse drive"
      ],
      "execution_count": 0,
      "outputs": []
    },
    {
      "metadata": {
        "id": "ORR6Bogj1exE",
        "colab_type": "code",
        "colab": {
          "base_uri": "https://localhost:8080/",
          "height": 357
        },
        "outputId": "4112d2b8-cc9e-4625-e665-2a18d4acc2e2"
      },
      "cell_type": "code",
      "source": [
        "!ls drive/"
      ],
      "execution_count": 7,
      "outputs": [
        {
          "output_type": "stream",
          "text": [
            "APPLICATION FORM 20182019.pdf\r\n",
            "cat-dog\r\n",
            "cats-and-dogs\r\n",
            "Client Name.docx\r\n",
            "Colab Notebooks\r\n",
            "cwork.7z\r\n",
            "data\r\n",
            "DIYeGPU-Setup-135-test4o.exe\r\n",
            "Fundamentals of Communications Systems (Michael P. Fitz).pdf\r\n",
            "gender\r\n",
            "gendersmall\r\n",
            "HAMZA.MUHAMMAD.pdf\r\n",
            "How to get started with Drive\r\n",
            "Keras_Jupyter_Notebooks-master.zip\r\n",
            "m.h. Argungu (2).docx\r\n",
            "nbs\r\n",
            "PaySlip_201718_22_438.html\r\n",
            "Proposal for a Petrol Station  - Business Plan.doc\r\n",
            "Untitled0.ipynb\r\n",
            "WindowsFormsApp3.zip\r\n"
          ],
          "name": "stdout"
        }
      ]
    },
    {
      "metadata": {
        "id": "XihefVi91zue",
        "colab_type": "code",
        "colab": {
          "base_uri": "https://localhost:8080/",
          "height": 34
        },
        "outputId": "31dee35d-d351-4adc-f5f7-71bdafc0a782"
      },
      "cell_type": "code",
      "source": [
        "import os\n",
        "import numpy as np\n",
        "from keras.preprocessing.image import ImageDataGenerator\n",
        "from keras.applications import VGG16\n",
        "from keras import models\n",
        "from keras import layers\n",
        "from keras import optimizers"
      ],
      "execution_count": 19,
      "outputs": [
        {
          "output_type": "stream",
          "text": [
            "Using TensorFlow backend.\n"
          ],
          "name": "stderr"
        }
      ]
    },
    {
      "metadata": {
        "id": "rUH0OVyY2hN4",
        "colab_type": "code",
        "colab": {}
      },
      "cell_type": "code",
      "source": [
        "base_dir = 'drive/gendersmall'\n",
        "\n",
        "train_dir = os.path.join(base_dir, 'train')\n",
        "validation_dir = os.path.join(base_dir, 'valid')\n",
        "test_dir = os.path.join(base_dir, 'test')\n",
        "\n",
        "datagen = ImageDataGenerator(rescale=1./255)\n",
        "batch_size = 20"
      ],
      "execution_count": 0,
      "outputs": []
    },
    {
      "metadata": {
        "id": "vqGizUBL2xWc",
        "colab_type": "code",
        "colab": {
          "base_uri": "https://localhost:8080/",
          "height": 68
        },
        "outputId": "af77044d-7721-4c80-fd51-bda494931c2e"
      },
      "cell_type": "code",
      "source": [
        "conv_base = VGG16(weights='imagenet',\n",
        "                  include_top=False,\n",
        "                  input_shape=(150, 150, 3))"
      ],
      "execution_count": 21,
      "outputs": [
        {
          "output_type": "stream",
          "text": [
            "Downloading data from https://github.com/fchollet/deep-learning-models/releases/download/v0.1/vgg16_weights_tf_dim_ordering_tf_kernels_notop.h5\n",
            "58892288/58889256 [==============================] - 4s 0us/step\n",
            "58900480/58889256 [==============================] - 4s 0us/step\n"
          ],
          "name": "stdout"
        }
      ]
    },
    {
      "metadata": {
        "id": "tgGI-KYG2_qa",
        "colab_type": "code",
        "colab": {
          "base_uri": "https://localhost:8080/",
          "height": 68
        },
        "outputId": "189c0ebb-339e-47d5-acfe-6e6078228264"
      },
      "cell_type": "code",
      "source": [
        "def extract_features(directory, sample_count):\n",
        "    features = np.zeros(shape=(sample_count, 4, 4, 512))\n",
        "    labels = np.zeros(shape=(sample_count))\n",
        "    generator = datagen.flow_from_directory(\n",
        "        directory,\n",
        "        target_size=(150, 150),\n",
        "        batch_size=batch_size,\n",
        "        class_mode='binary')\n",
        "    i = 0\n",
        "    for inputs_batch, labels_batch in generator:\n",
        "        features_batch = conv_base.predict(inputs_batch)\n",
        "        features[i * batch_size : (i + 1) * batch_size] = features_batch\n",
        "        labels[i * batch_size : (i + 1) * batch_size] = labels_batch\n",
        "        i += 1\n",
        "        if i * batch_size >= sample_count:\n",
        "            # Note that since generators yield data indefinitely in a loop,\n",
        "            # we must `break` after every image has been seen once.\n",
        "            break\n",
        "    return features, labels\n",
        "\n",
        "train_features, train_labels = extract_features(train_dir, 2000)\n",
        "validation_features, validation_labels = extract_features(validation_dir, 1000)\n",
        "test_features, test_labels = extract_features(test_dir, 1000)\n",
        "\n",
        "train_features = np.reshape(train_features, (2000, 4 * 4 * 512))\n",
        "validation_features = np.reshape(validation_features, (1000, 4 * 4 * 512))\n",
        "test_features = np.reshape(test_features, (1000, 4 * 4 * 512))"
      ],
      "execution_count": 22,
      "outputs": [
        {
          "output_type": "stream",
          "text": [
            "Found 2000 images belonging to 2 classes.\n",
            "Found 1000 images belonging to 2 classes.\n",
            "Found 1000 images belonging to 2 classes.\n"
          ],
          "name": "stdout"
        }
      ]
    },
    {
      "metadata": {
        "id": "cV1e5GZK4XzA",
        "colab_type": "code",
        "colab": {
          "base_uri": "https://localhost:8080/",
          "height": 1074
        },
        "outputId": "b6212abd-2eca-4665-e4db-a837e8d105ff"
      },
      "cell_type": "code",
      "source": [
        "model = models.Sequential()\n",
        "model.add(layers.Dense(256, activation='relu', input_dim=4 * 4 * 512))\n",
        "model.add(layers.Dropout(0.5))\n",
        "model.add(layers.Dense(1, activation='sigmoid'))\n",
        "\n",
        "model.compile(optimizer=optimizers.RMSprop(lr=2e-5),\n",
        "              loss='binary_crossentropy',\n",
        "              metrics=['acc'])\n",
        "\n",
        "history = model.fit(train_features, train_labels,\n",
        "                    epochs=30,\n",
        "                    batch_size=20,\n",
        "                    validation_data=(validation_features, validation_labels))"
      ],
      "execution_count": 23,
      "outputs": [
        {
          "output_type": "stream",
          "text": [
            "Train on 2000 samples, validate on 1000 samples\n",
            "Epoch 1/30\n",
            "2000/2000 [==============================] - 1s 671us/step - loss: 0.6433 - acc: 0.6365 - val_loss: 0.5550 - val_acc: 0.7370\n",
            "Epoch 2/30\n",
            "2000/2000 [==============================] - 1s 516us/step - loss: 0.5217 - acc: 0.7425 - val_loss: 0.4980 - val_acc: 0.7430\n",
            "Epoch 3/30\n",
            "2000/2000 [==============================] - 1s 540us/step - loss: 0.4637 - acc: 0.7780 - val_loss: 0.4723 - val_acc: 0.7760\n",
            "Epoch 4/30\n",
            "2000/2000 [==============================] - 1s 539us/step - loss: 0.4306 - acc: 0.8035 - val_loss: 0.4550 - val_acc: 0.7790\n",
            "Epoch 5/30\n",
            "2000/2000 [==============================] - 1s 547us/step - loss: 0.4076 - acc: 0.8125 - val_loss: 0.4517 - val_acc: 0.7810\n",
            "Epoch 6/30\n",
            "2000/2000 [==============================] - 1s 550us/step - loss: 0.3814 - acc: 0.8310 - val_loss: 0.4382 - val_acc: 0.7840\n",
            "Epoch 7/30\n",
            "2000/2000 [==============================] - 1s 522us/step - loss: 0.3696 - acc: 0.8370 - val_loss: 0.4435 - val_acc: 0.7800\n",
            "Epoch 8/30\n",
            "2000/2000 [==============================] - 1s 532us/step - loss: 0.3504 - acc: 0.8570 - val_loss: 0.4261 - val_acc: 0.7970\n",
            "Epoch 9/30\n",
            " 580/2000 [=======>......................] - ETA: 0s - loss: 0.3549 - acc: 0.8552"
          ],
          "name": "stdout"
        },
        {
          "output_type": "stream",
          "text": [
            "2000/2000 [==============================] - 1s 537us/step - loss: 0.3389 - acc: 0.8570 - val_loss: 0.4366 - val_acc: 0.7890\n",
            "Epoch 10/30\n",
            "2000/2000 [==============================] - 1s 560us/step - loss: 0.3330 - acc: 0.8590 - val_loss: 0.4210 - val_acc: 0.8050\n",
            "Epoch 11/30\n",
            "2000/2000 [==============================] - 1s 539us/step - loss: 0.3092 - acc: 0.8750 - val_loss: 0.4183 - val_acc: 0.8020\n",
            "Epoch 12/30\n",
            "2000/2000 [==============================] - 1s 536us/step - loss: 0.3032 - acc: 0.8760 - val_loss: 0.4166 - val_acc: 0.8030\n",
            "Epoch 13/30\n",
            "2000/2000 [==============================] - 1s 546us/step - loss: 0.2904 - acc: 0.8850 - val_loss: 0.4245 - val_acc: 0.8050\n",
            "Epoch 14/30\n",
            "2000/2000 [==============================] - 1s 543us/step - loss: 0.2839 - acc: 0.8880 - val_loss: 0.4165 - val_acc: 0.8090\n",
            "Epoch 15/30\n",
            "2000/2000 [==============================] - 1s 530us/step - loss: 0.2748 - acc: 0.8940 - val_loss: 0.4216 - val_acc: 0.8050\n",
            "Epoch 16/30\n",
            "2000/2000 [==============================] - 1s 535us/step - loss: 0.2654 - acc: 0.8905 - val_loss: 0.4120 - val_acc: 0.8070\n",
            "Epoch 17/30\n",
            "1400/2000 [====================>.........] - ETA: 0s - loss: 0.2741 - acc: 0.8879"
          ],
          "name": "stdout"
        },
        {
          "output_type": "stream",
          "text": [
            "2000/2000 [==============================] - 1s 535us/step - loss: 0.2633 - acc: 0.8975 - val_loss: 0.4128 - val_acc: 0.8050\n",
            "Epoch 18/30\n",
            "2000/2000 [==============================] - 1s 537us/step - loss: 0.2490 - acc: 0.9080 - val_loss: 0.4146 - val_acc: 0.8130\n",
            "Epoch 19/30\n",
            "2000/2000 [==============================] - 1s 545us/step - loss: 0.2488 - acc: 0.9060 - val_loss: 0.4118 - val_acc: 0.8110\n",
            "Epoch 20/30\n",
            "2000/2000 [==============================] - 1s 546us/step - loss: 0.2392 - acc: 0.9085 - val_loss: 0.4139 - val_acc: 0.8050\n",
            "Epoch 21/30\n",
            "2000/2000 [==============================] - 1s 536us/step - loss: 0.2292 - acc: 0.9165 - val_loss: 0.4111 - val_acc: 0.8090\n",
            "Epoch 22/30\n",
            "2000/2000 [==============================] - 1s 535us/step - loss: 0.2238 - acc: 0.9170 - val_loss: 0.4116 - val_acc: 0.8100\n",
            "Epoch 23/30\n",
            "2000/2000 [==============================] - 1s 539us/step - loss: 0.2177 - acc: 0.9235 - val_loss: 0.4118 - val_acc: 0.8080\n",
            "Epoch 24/30\n",
            "2000/2000 [==============================] - 1s 539us/step - loss: 0.2135 - acc: 0.9280 - val_loss: 0.4109 - val_acc: 0.8120\n",
            "Epoch 25/30\n",
            "1640/2000 [=======================>......] - ETA: 0s - loss: 0.2001 - acc: 0.9293"
          ],
          "name": "stdout"
        },
        {
          "output_type": "stream",
          "text": [
            "2000/2000 [==============================] - 1s 538us/step - loss: 0.2056 - acc: 0.9280 - val_loss: 0.4110 - val_acc: 0.8100\n",
            "Epoch 26/30\n",
            "2000/2000 [==============================] - 1s 536us/step - loss: 0.2001 - acc: 0.9335 - val_loss: 0.4162 - val_acc: 0.8080\n",
            "Epoch 27/30\n",
            "2000/2000 [==============================] - 1s 538us/step - loss: 0.1975 - acc: 0.9365 - val_loss: 0.4138 - val_acc: 0.8130\n",
            "Epoch 28/30\n",
            "2000/2000 [==============================] - 1s 543us/step - loss: 0.1931 - acc: 0.9375 - val_loss: 0.4257 - val_acc: 0.8150\n",
            "Epoch 29/30\n",
            "2000/2000 [==============================] - 1s 536us/step - loss: 0.1813 - acc: 0.9440 - val_loss: 0.4364 - val_acc: 0.8100\n",
            "Epoch 30/30\n",
            "2000/2000 [==============================] - 1s 538us/step - loss: 0.1753 - acc: 0.9480 - val_loss: 0.4172 - val_acc: 0.8070\n"
          ],
          "name": "stdout"
        }
      ]
    },
    {
      "metadata": {
        "id": "XaUW3CIKcImT",
        "colab_type": "code",
        "colab": {
          "base_uri": "https://localhost:8080/",
          "height": 707
        },
        "outputId": "3b0c871b-f54f-49ac-dce7-8997875edd1c"
      },
      "cell_type": "code",
      "source": [
        "import matplotlib.pyplot as plt\n",
        "\n",
        "acc = history.history['acc']\n",
        "val_acc = history.history['val_acc']\n",
        "loss = history.history['loss']\n",
        "val_loss = history.history['val_loss']\n",
        "\n",
        "epochs = range(len(acc))\n",
        "\n",
        "plt.plot(epochs, acc, 'bo', label='Training acc')\n",
        "plt.plot(epochs, val_acc, 'b', label='Validation acc')\n",
        "plt.title('Training and validation accuracy')\n",
        "plt.legend()\n",
        "\n",
        "plt.figure()\n",
        "\n",
        "plt.plot(epochs, loss, 'bo', label='Training loss')\n",
        "plt.plot(epochs, val_loss, 'b', label='Validation loss')\n",
        "plt.title('Training and validation loss')\n",
        "plt.legend()\n",
        "\n",
        "plt.show()"
      ],
      "execution_count": 24,
      "outputs": [
        {
          "output_type": "display_data",
          "data": {
            "image/png": "[encoded data removed]",
            "text/plain": [
              "<matplotlib.figure.Figure at 0x7fddf9c27950>"
            ]
          },
          "metadata": {
            "tags": []
          }
        },
        {
          "output_type": "display_data",
          "data": {
            "image/png": "[encoded data removed]",
            "text/plain": [
              "<matplotlib.figure.Figure at 0x7fddf9b83e50>"
            ]
          },
          "metadata": {
            "tags": []
          }
        }
      ]
    },
    {
      "metadata": {
        "id": "2ZJGdvb0ebJm",
        "colab_type": "code",
        "colab": {}
      },
      "cell_type": "code",
      "source": [
        "model = models.Sequential()\n",
        "model.add(conv_base)\n",
        "model.add(layers.Flatten())\n",
        "model.add(layers.Dense(256, activation='relu'))\n",
        "model.add(layers.Dense(1, activation='sigmoid'))"
      ],
      "execution_count": 0,
      "outputs": []
    },
    {
      "metadata": {
        "id": "Zu84D8mQfgrd",
        "colab_type": "code",
        "colab": {
          "base_uri": "https://localhost:8080/",
          "height": 34
        },
        "outputId": "f6ac0e58-10b1-470a-b1ed-4eaaf697e293"
      },
      "cell_type": "code",
      "source": [
        "print('This is the number of trainable weights '\n",
        "      'before freezing the conv base:', len(model.trainable_weights))"
      ],
      "execution_count": 44,
      "outputs": [
        {
          "output_type": "stream",
          "text": [
            "('This is the number of trainable weights before freezing the conv base:', 30)\n"
          ],
          "name": "stdout"
        }
      ]
    },
    {
      "metadata": {
        "id": "9ffaN1PufvGh",
        "colab_type": "code",
        "colab": {}
      },
      "cell_type": "code",
      "source": [
        "conv_base.trainable = False"
      ],
      "execution_count": 0,
      "outputs": []
    },
    {
      "metadata": {
        "id": "ehR_47m7f2cA",
        "colab_type": "code",
        "colab": {
          "base_uri": "https://localhost:8080/",
          "height": 34
        },
        "outputId": "8f3eb40c-21f2-4cce-fbfe-d6f83c303b24"
      },
      "cell_type": "code",
      "source": [
        "print('This is the number of trainable weights '\n",
        "      'after freezing the conv base:', len(model.trainable_weights))"
      ],
      "execution_count": 46,
      "outputs": [
        {
          "output_type": "stream",
          "text": [
            "('This is the number of trainable weights after freezing the conv base:', 4)\n"
          ],
          "name": "stdout"
        }
      ]
    },
    {
      "metadata": {
        "id": "7tsgyuPEf-mt",
        "colab_type": "code",
        "colab": {
          "base_uri": "https://localhost:8080/",
          "height": 1071
        },
        "outputId": "68135b67-1e18-44c0-ae6f-dd055a809f2c"
      },
      "cell_type": "code",
      "source": [
        "train_datagen = ImageDataGenerator(\n",
        "      rescale=1./255,\n",
        "      rotation_range=40,\n",
        "      width_shift_range=0.2,\n",
        "      height_shift_range=0.2,\n",
        "      shear_range=0.2,\n",
        "      zoom_range=0.2,\n",
        "      horizontal_flip=True,\n",
        "      fill_mode='nearest')\n",
        "\n",
        "# Note that the validation data should not be augmented!\n",
        "test_datagen = ImageDataGenerator(rescale=1./255)\n",
        "\n",
        "train_generator = train_datagen.flow_from_directory(\n",
        "        # This is the target directory\n",
        "        train_dir,\n",
        "        # All images will be resized to 150x150\n",
        "        target_size=(150, 150),\n",
        "        batch_size=20,\n",
        "        # Since we use binary_crossentropy loss, we need binary labels\n",
        "        class_mode='binary')\n",
        "\n",
        "validation_generator = test_datagen.flow_from_directory(\n",
        "        validation_dir,\n",
        "        target_size=(150, 150),\n",
        "        batch_size=20,\n",
        "        class_mode='binary')\n",
        "\n",
        "model.compile(loss='binary_crossentropy',\n",
        "              optimizer=optimizers.RMSprop(lr=2e-5),\n",
        "              metrics=['acc'])\n",
        "\n",
        "history = model.fit_generator(\n",
        "      train_generator,\n",
        "      steps_per_epoch=100,\n",
        "      epochs=30,\n",
        "      validation_data=validation_generator,\n",
        "      validation_steps=50,\n",
        "      verbose=2)"
      ],
      "execution_count": 26,
      "outputs": [
        {
          "output_type": "stream",
          "text": [
            "Found 2000 images belonging to 2 classes.\n",
            "Found 1000 images belonging to 2 classes.\n",
            "Epoch 1/30\n",
            " - 49s - loss: 0.5614 - acc: 0.6955 - val_loss: 0.4197 - val_acc: 0.7900\n",
            "Epoch 2/30\n",
            " - 46s - loss: 0.4427 - acc: 0.7875 - val_loss: 0.3953 - val_acc: 0.8090\n",
            "Epoch 3/30\n",
            " - 46s - loss: 0.3850 - acc: 0.8160 - val_loss: 0.3853 - val_acc: 0.8290\n",
            "Epoch 4/30\n",
            " - 47s - loss: 0.3626 - acc: 0.8320 - val_loss: 0.6112 - val_acc: 0.7630\n",
            "Epoch 5/30\n",
            " - 46s - loss: 0.3285 - acc: 0.8575 - val_loss: 0.3633 - val_acc: 0.8520\n",
            "Epoch 6/30\n",
            " - 46s - loss: 0.3102 - acc: 0.8675 - val_loss: 0.3324 - val_acc: 0.8640\n",
            "Epoch 7/30\n",
            " - 46s - loss: 0.2915 - acc: 0.8775 - val_loss: 0.3708 - val_acc: 0.8350\n",
            "Epoch 8/30\n",
            " - 46s - loss: 0.2768 - acc: 0.8860 - val_loss: 0.3749 - val_acc: 0.8410\n",
            "Epoch 9/30\n",
            " - 47s - loss: 0.2519 - acc: 0.8935 - val_loss: 0.3616 - val_acc: 0.8520\n",
            "Epoch 10/30\n",
            " - 46s - loss: 0.2338 - acc: 0.9060 - val_loss: 0.4110 - val_acc: 0.8450\n",
            "Epoch 11/30\n",
            " - 47s - loss: 0.2347 - acc: 0.9000 - val_loss: 0.3456 - val_acc: 0.8570\n",
            "Epoch 12/30\n",
            " - 46s - loss: 0.2093 - acc: 0.9200 - val_loss: 0.4498 - val_acc: 0.8330\n",
            "Epoch 13/30\n",
            " - 47s - loss: 0.1985 - acc: 0.9240 - val_loss: 0.4813 - val_acc: 0.8520\n",
            "Epoch 14/30\n",
            " - 46s - loss: 0.1842 - acc: 0.9270 - val_loss: 0.3913 - val_acc: 0.8660\n",
            "Epoch 15/30\n",
            " - 46s - loss: 0.1761 - acc: 0.9230 - val_loss: 0.4199 - val_acc: 0.8400\n",
            "Epoch 16/30\n",
            " - 46s - loss: 0.1755 - acc: 0.9355 - val_loss: 0.4225 - val_acc: 0.8610\n",
            "Epoch 17/30\n",
            " - 47s - loss: 0.1528 - acc: 0.9445 - val_loss: 0.4466 - val_acc: 0.8670\n",
            "Epoch 18/30\n",
            " - 47s - loss: 0.1531 - acc: 0.9465 - val_loss: 0.4279 - val_acc: 0.8600\n",
            "Epoch 19/30\n",
            " - 47s - loss: 0.1248 - acc: 0.9550 - val_loss: 0.5485 - val_acc: 0.8230\n",
            "Epoch 20/30\n",
            " - 47s - loss: 0.1425 - acc: 0.9450 - val_loss: 0.4626 - val_acc: 0.8560\n",
            "Epoch 21/30\n",
            " - 46s - loss: 0.1293 - acc: 0.9565 - val_loss: 0.4967 - val_acc: 0.8610\n",
            "Epoch 22/30\n",
            " - 47s - loss: 0.1048 - acc: 0.9625 - val_loss: 0.7768 - val_acc: 0.8410\n",
            "Epoch 23/30\n",
            " - 46s - loss: 0.1042 - acc: 0.9615 - val_loss: 0.5235 - val_acc: 0.8530\n",
            "Epoch 24/30\n",
            " - 46s - loss: 0.0986 - acc: 0.9600 - val_loss: 0.5882 - val_acc: 0.8530\n",
            "Epoch 25/30\n",
            " - 46s - loss: 0.0853 - acc: 0.9665 - val_loss: 0.7433 - val_acc: 0.8440\n",
            "Epoch 26/30\n",
            " - 47s - loss: 0.0956 - acc: 0.9630 - val_loss: 0.6728 - val_acc: 0.8380\n",
            "Epoch 27/30\n",
            " - 46s - loss: 0.0830 - acc: 0.9700 - val_loss: 0.7853 - val_acc: 0.8490\n",
            "Epoch 28/30\n",
            " - 46s - loss: 0.0861 - acc: 0.9700 - val_loss: 0.6814 - val_acc: 0.8390\n",
            "Epoch 29/30\n",
            " - 46s - loss: 0.0787 - acc: 0.9700 - val_loss: 0.8216 - val_acc: 0.8550\n",
            "Epoch 30/30\n",
            " - 47s - loss: 0.0957 - acc: 0.9685 - val_loss: 0.4979 - val_acc: 0.8580\n"
          ],
          "name": "stdout"
        }
      ]
    },
    {
      "metadata": {
        "id": "LU_gxxzNgNRR",
        "colab_type": "code",
        "colab": {}
      },
      "cell_type": "code",
      "source": [
        "model.save('gendersmall_3.h5')"
      ],
      "execution_count": 0,
      "outputs": []
    },
    {
      "metadata": {
        "id": "vV0AnAjCoWzt",
        "colab_type": "code",
        "colab": {
          "base_uri": "https://localhost:8080/",
          "height": 707
        },
        "outputId": "810dfb61-e28a-44c6-ae7f-5af99dc6b298"
      },
      "cell_type": "code",
      "source": [
        "acc = history.history['acc']\n",
        "val_acc = history.history['val_acc']\n",
        "loss = history.history['loss']\n",
        "val_loss = history.history['val_loss']\n",
        "\n",
        "epochs = range(len(acc))\n",
        "\n",
        "plt.plot(epochs, acc, 'bo', label='Training acc')\n",
        "plt.plot(epochs, val_acc, 'b', label='Validation acc')\n",
        "plt.title('Training and validation accuracy')\n",
        "plt.legend()\n",
        "\n",
        "plt.figure()\n",
        "\n",
        "plt.plot(epochs, loss, 'bo', label='Training loss')\n",
        "plt.plot(epochs, val_loss, 'b', label='Validation loss')\n",
        "plt.title('Training and validation loss')\n",
        "plt.legend()\n",
        "\n",
        "plt.show()"
      ],
      "execution_count": 28,
      "outputs": [
        {
          "output_type": "display_data",
          "data": {
            "image/png": "[encoded data removed]",
            "text/plain": [
              "<matplotlib.figure.Figure at 0x7fddf45e5550>"
            ]
          },
          "metadata": {
            "tags": []
          }
        },
        {
          "output_type": "display_data",
          "data": {
            "image/png": "[encoded data removed]",
            "text/plain": [
              "<matplotlib.figure.Figure at 0x7fddfa7c4490>"
            ]
          },
          "metadata": {
            "tags": []
          }
        }
      ]
    },
    {
      "metadata": {
        "id": "l6KPYw0RoeHD",
        "colab_type": "code",
        "colab": {}
      },
      "cell_type": "code",
      "source": [
        "conv_base.trainable = True\n",
        "\n",
        "set_trainable = False\n",
        "for layer in conv_base.layers:\n",
        "    if layer.name == 'block5_conv1':\n",
        "        set_trainable = True\n",
        "    if set_trainable:\n",
        "        layer.trainable = True\n",
        "    else:\n",
        "        layer.trainable = False"
      ],
      "execution_count": 0,
      "outputs": []
    },
    {
      "metadata": {
        "id": "RZBdASC3pHE2",
        "colab_type": "code",
        "colab": {
          "base_uri": "https://localhost:8080/",
          "height": 3437
        },
        "outputId": "78b51408-0268-435c-c2bd-cf2c0772e15d"
      },
      "cell_type": "code",
      "source": [
        "model.compile(loss='binary_crossentropy',\n",
        "              optimizer=optimizers.RMSprop(lr=1e-5),\n",
        "              metrics=['acc'])\n",
        "\n",
        "history = model.fit_generator(\n",
        "      train_generator,\n",
        "      steps_per_epoch=100,\n",
        "      epochs=100,\n",
        "      validation_data=validation_generator,\n",
        "      validation_steps=50)"
      ],
      "execution_count": 30,
      "outputs": [
        {
          "output_type": "stream",
          "text": [
            "Epoch 1/100\n",
            "100/100 [==============================] - 38s 385ms/step - loss: 0.0423 - acc: 0.9870 - val_loss: 0.6998 - val_acc: 0.8590\n",
            "Epoch 2/100\n",
            "100/100 [==============================] - 37s 366ms/step - loss: 0.0289 - acc: 0.9885 - val_loss: 0.8131 - val_acc: 0.8580\n",
            "Epoch 3/100\n",
            "100/100 [==============================] - 36s 359ms/step - loss: 0.0352 - acc: 0.9835 - val_loss: 0.9196 - val_acc: 0.8560\n",
            "Epoch 4/100\n",
            " 63/100 [=================>............] - ETA: 9s - loss: 0.0460 - acc: 0.9865"
          ],
          "name": "stdout"
        },
        {
          "output_type": "stream",
          "text": [
            "100/100 [==============================] - 36s 364ms/step - loss: 0.0393 - acc: 0.9890 - val_loss: 0.9288 - val_acc: 0.8540\n",
            "Epoch 5/100\n",
            "100/100 [==============================] - 37s 367ms/step - loss: 0.0258 - acc: 0.9915 - val_loss: 0.9636 - val_acc: 0.8520\n",
            "Epoch 6/100\n",
            "100/100 [==============================] - 35s 355ms/step - loss: 0.0380 - acc: 0.9860 - val_loss: 0.8098 - val_acc: 0.8500\n",
            "Epoch 7/100\n",
            " 82/100 [=======================>......] - ETA: 4s - loss: 0.0274 - acc: 0.9921"
          ],
          "name": "stdout"
        },
        {
          "output_type": "stream",
          "text": [
            "100/100 [==============================] - 37s 372ms/step - loss: 0.0251 - acc: 0.9925 - val_loss: 0.8619 - val_acc: 0.8560\n",
            "Epoch 8/100\n",
            "100/100 [==============================] - 36s 359ms/step - loss: 0.0293 - acc: 0.9890 - val_loss: 0.8393 - val_acc: 0.8560\n",
            "Epoch 9/100\n",
            "100/100 [==============================] - 36s 364ms/step - loss: 0.0258 - acc: 0.9905 - val_loss: 0.9346 - val_acc: 0.8610\n",
            "Epoch 10/100\n",
            " 85/100 [========================>.....] - ETA: 3s - loss: 0.0270 - acc: 0.9900"
          ],
          "name": "stdout"
        },
        {
          "output_type": "stream",
          "text": [
            "100/100 [==============================] - 36s 362ms/step - loss: 0.0247 - acc: 0.9910 - val_loss: 0.9322 - val_acc: 0.8560\n",
            "Epoch 11/100\n",
            "100/100 [==============================] - 36s 356ms/step - loss: 0.0190 - acc: 0.9930 - val_loss: 0.9447 - val_acc: 0.8530\n",
            "Epoch 12/100\n",
            "100/100 [==============================] - 36s 362ms/step - loss: 0.0189 - acc: 0.9920 - val_loss: 0.9613 - val_acc: 0.8530\n",
            "Epoch 13/100\n",
            " 84/100 [========================>.....] - ETA: 4s - loss: 0.0197 - acc: 0.9905"
          ],
          "name": "stdout"
        },
        {
          "output_type": "stream",
          "text": [
            "100/100 [==============================] - 36s 356ms/step - loss: 0.0208 - acc: 0.9905 - val_loss: 1.1170 - val_acc: 0.8570\n",
            "Epoch 14/100\n",
            "100/100 [==============================] - 36s 360ms/step - loss: 0.0241 - acc: 0.9925 - val_loss: 1.0000 - val_acc: 0.8590\n",
            "Epoch 15/100\n",
            "100/100 [==============================] - 36s 362ms/step - loss: 0.0209 - acc: 0.9915 - val_loss: 0.9782 - val_acc: 0.8480\n",
            "Epoch 16/100\n",
            " 84/100 [========================>.....] - ETA: 4s - loss: 0.0130 - acc: 0.9946"
          ],
          "name": "stdout"
        },
        {
          "output_type": "stream",
          "text": [
            "100/100 [==============================] - 35s 354ms/step - loss: 0.0176 - acc: 0.9925 - val_loss: 1.0685 - val_acc: 0.8610\n",
            "Epoch 17/100\n",
            "100/100 [==============================] - 36s 359ms/step - loss: 0.0233 - acc: 0.9930 - val_loss: 1.0207 - val_acc: 0.8570\n",
            "Epoch 18/100\n",
            "100/100 [==============================] - 35s 354ms/step - loss: 0.0184 - acc: 0.9955 - val_loss: 1.0431 - val_acc: 0.8530\n",
            "Epoch 19/100\n",
            " 84/100 [========================>.....] - ETA: 4s - loss: 0.0112 - acc: 0.9976"
          ],
          "name": "stdout"
        },
        {
          "output_type": "stream",
          "text": [
            "100/100 [==============================] - 36s 359ms/step - loss: 0.0132 - acc: 0.9965 - val_loss: 1.0669 - val_acc: 0.8510\n",
            "Epoch 20/100\n",
            "100/100 [==============================] - 35s 352ms/step - loss: 0.0169 - acc: 0.9950 - val_loss: 1.0678 - val_acc: 0.8480\n",
            "Epoch 21/100\n",
            "100/100 [==============================] - 36s 356ms/step - loss: 0.0121 - acc: 0.9960 - val_loss: 1.2601 - val_acc: 0.8550\n",
            "Epoch 22/100\n",
            " 84/100 [========================>.....] - ETA: 4s - loss: 0.0149 - acc: 0.9946"
          ],
          "name": "stdout"
        },
        {
          "output_type": "stream",
          "text": [
            "100/100 [==============================] - 36s 362ms/step - loss: 0.0141 - acc: 0.9945 - val_loss: 1.2262 - val_acc: 0.8590\n",
            "Epoch 23/100\n",
            "100/100 [==============================] - 35s 354ms/step - loss: 0.0212 - acc: 0.9930 - val_loss: 1.0868 - val_acc: 0.8500\n",
            "Epoch 24/100\n",
            "100/100 [==============================] - 36s 362ms/step - loss: 0.0207 - acc: 0.9935 - val_loss: 1.0311 - val_acc: 0.8560\n",
            "Epoch 25/100\n",
            " 84/100 [========================>.....] - ETA: 4s - loss: 0.0053 - acc: 0.9994"
          ],
          "name": "stdout"
        },
        {
          "output_type": "stream",
          "text": [
            "100/100 [==============================] - 35s 354ms/step - loss: 0.0081 - acc: 0.9970 - val_loss: 1.2197 - val_acc: 0.8590\n",
            "Epoch 26/100\n",
            "100/100 [==============================] - 37s 365ms/step - loss: 0.0182 - acc: 0.9935 - val_loss: 1.1259 - val_acc: 0.8510\n",
            "Epoch 27/100\n",
            "100/100 [==============================] - 36s 361ms/step - loss: 0.0125 - acc: 0.9955 - val_loss: 1.2145 - val_acc: 0.8590\n",
            "Epoch 28/100\n",
            " 84/100 [========================>.....] - ETA: 4s - loss: 0.0092 - acc: 0.9964"
          ],
          "name": "stdout"
        },
        {
          "output_type": "stream",
          "text": [
            "100/100 [==============================] - 35s 351ms/step - loss: 0.0079 - acc: 0.9970 - val_loss: 1.1552 - val_acc: 0.8540\n",
            "Epoch 29/100\n",
            "100/100 [==============================] - 36s 356ms/step - loss: 0.0144 - acc: 0.9945 - val_loss: 1.1617 - val_acc: 0.8420\n",
            "Epoch 30/100\n",
            "100/100 [==============================] - 35s 353ms/step - loss: 0.0256 - acc: 0.9935 - val_loss: 1.1000 - val_acc: 0.8590\n",
            "Epoch 31/100\n",
            " 84/100 [========================>.....] - ETA: 4s - loss: 0.0099 - acc: 0.9964"
          ],
          "name": "stdout"
        },
        {
          "output_type": "stream",
          "text": [
            "100/100 [==============================] - 36s 360ms/step - loss: 0.0117 - acc: 0.9960 - val_loss: 1.2007 - val_acc: 0.8590\n",
            "Epoch 32/100\n",
            "100/100 [==============================] - 36s 359ms/step - loss: 0.0184 - acc: 0.9935 - val_loss: 1.1714 - val_acc: 0.8520\n",
            "Epoch 33/100\n",
            "100/100 [==============================] - 35s 352ms/step - loss: 0.0100 - acc: 0.9965 - val_loss: 1.1511 - val_acc: 0.8440\n",
            "Epoch 34/100\n",
            " 84/100 [========================>.....] - ETA: 4s - loss: 0.0067 - acc: 0.9976"
          ],
          "name": "stdout"
        },
        {
          "output_type": "stream",
          "text": [
            "100/100 [==============================] - 36s 359ms/step - loss: 0.0060 - acc: 0.9980 - val_loss: 1.1942 - val_acc: 0.8590\n",
            "Epoch 35/100\n",
            "100/100 [==============================] - 35s 354ms/step - loss: 0.0115 - acc: 0.9960 - val_loss: 1.2284 - val_acc: 0.8550\n",
            "Epoch 36/100\n",
            "100/100 [==============================] - 36s 360ms/step - loss: 0.0159 - acc: 0.9935 - val_loss: 1.2014 - val_acc: 0.8570\n",
            "Epoch 37/100\n",
            " 84/100 [========================>.....] - ETA: 4s - loss: 0.0049 - acc: 0.9976"
          ],
          "name": "stdout"
        },
        {
          "output_type": "stream",
          "text": [
            "100/100 [==============================] - 36s 361ms/step - loss: 0.0046 - acc: 0.9980 - val_loss: 1.2384 - val_acc: 0.8520\n",
            "Epoch 38/100\n",
            "100/100 [==============================] - 35s 352ms/step - loss: 0.0059 - acc: 0.9980 - val_loss: 1.2646 - val_acc: 0.8470\n",
            "Epoch 39/100\n",
            "100/100 [==============================] - 36s 360ms/step - loss: 0.0120 - acc: 0.9945 - val_loss: 1.2335 - val_acc: 0.8470\n",
            "Epoch 40/100\n",
            " 84/100 [========================>.....] - ETA: 4s - loss: 0.0113 - acc: 0.9976"
          ],
          "name": "stdout"
        },
        {
          "output_type": "stream",
          "text": [
            "100/100 [==============================] - 35s 352ms/step - loss: 0.0097 - acc: 0.9980 - val_loss: 1.2609 - val_acc: 0.8590\n",
            "Epoch 41/100\n",
            "100/100 [==============================] - 36s 360ms/step - loss: 0.0089 - acc: 0.9970 - val_loss: 1.2283 - val_acc: 0.8500\n",
            "Epoch 42/100\n",
            "100/100 [==============================] - 36s 360ms/step - loss: 0.0198 - acc: 0.9920 - val_loss: 1.2207 - val_acc: 0.8500\n",
            "Epoch 43/100\n",
            " 84/100 [========================>.....] - ETA: 4s - loss: 0.0115 - acc: 0.9958"
          ],
          "name": "stdout"
        },
        {
          "output_type": "stream",
          "text": [
            "100/100 [==============================] - 35s 354ms/step - loss: 0.0108 - acc: 0.9960 - val_loss: 1.2160 - val_acc: 0.8630\n",
            "Epoch 44/100\n",
            "100/100 [==============================] - 36s 358ms/step - loss: 0.0101 - acc: 0.9955 - val_loss: 1.3165 - val_acc: 0.8470\n",
            "Epoch 45/100\n",
            "100/100 [==============================] - 35s 349ms/step - loss: 0.0071 - acc: 0.9970 - val_loss: 1.3080 - val_acc: 0.8490\n",
            "Epoch 46/100\n",
            " 84/100 [========================>.....] - ETA: 4s - loss: 0.0092 - acc: 0.9964"
          ],
          "name": "stdout"
        },
        {
          "output_type": "stream",
          "text": [
            "100/100 [==============================] - 36s 360ms/step - loss: 0.0089 - acc: 0.9965 - val_loss: 1.3507 - val_acc: 0.8490\n",
            "Epoch 47/100\n",
            "100/100 [==============================] - 35s 352ms/step - loss: 0.0078 - acc: 0.9975 - val_loss: 1.3970 - val_acc: 0.8540\n",
            "Epoch 48/100\n",
            "100/100 [==============================] - 36s 356ms/step - loss: 0.0071 - acc: 0.9980 - val_loss: 1.3376 - val_acc: 0.8490\n",
            "Epoch 49/100\n",
            " 84/100 [========================>.....] - ETA: 4s - loss: 0.0109 - acc: 0.9976"
          ],
          "name": "stdout"
        },
        {
          "output_type": "stream",
          "text": [
            "100/100 [==============================] - 36s 356ms/step - loss: 0.0093 - acc: 0.9980 - val_loss: 1.2846 - val_acc: 0.8470\n",
            "Epoch 50/100\n",
            "100/100 [==============================] - 35s 351ms/step - loss: 0.0225 - acc: 0.9965 - val_loss: 1.2860 - val_acc: 0.8500\n",
            "Epoch 51/100\n",
            "100/100 [==============================] - 36s 361ms/step - loss: 0.0076 - acc: 0.9965 - val_loss: 1.3180 - val_acc: 0.8490\n",
            "Epoch 52/100\n",
            " 84/100 [========================>.....] - ETA: 4s - loss: 0.0107 - acc: 0.9958"
          ],
          "name": "stdout"
        },
        {
          "output_type": "stream",
          "text": [
            "100/100 [==============================] - 36s 355ms/step - loss: 0.0123 - acc: 0.9960 - val_loss: 1.3063 - val_acc: 0.8500\n",
            "Epoch 53/100\n",
            "100/100 [==============================] - 36s 364ms/step - loss: 0.0162 - acc: 0.9950 - val_loss: 1.3317 - val_acc: 0.8470\n",
            "Epoch 54/100\n",
            "100/100 [==============================] - 36s 362ms/step - loss: 0.0063 - acc: 0.9970 - val_loss: 1.3438 - val_acc: 0.8510\n",
            "Epoch 55/100\n",
            " 84/100 [========================>.....] - ETA: 4s - loss: 0.0076 - acc: 0.9976"
          ],
          "name": "stdout"
        },
        {
          "output_type": "stream",
          "text": [
            "100/100 [==============================] - 36s 358ms/step - loss: 0.0108 - acc: 0.9970 - val_loss: 1.3751 - val_acc: 0.8480\n",
            "Epoch 56/100\n",
            "100/100 [==============================] - 36s 359ms/step - loss: 0.0110 - acc: 0.9955 - val_loss: 1.3005 - val_acc: 0.8480\n",
            "Epoch 57/100\n",
            "100/100 [==============================] - 35s 354ms/step - loss: 0.0145 - acc: 0.9950 - val_loss: 1.2756 - val_acc: 0.8520\n",
            "Epoch 58/100\n",
            " 84/100 [========================>.....] - ETA: 4s - loss: 0.0140 - acc: 0.9946"
          ],
          "name": "stdout"
        },
        {
          "output_type": "stream",
          "text": [
            "100/100 [==============================] - 36s 360ms/step - loss: 0.0123 - acc: 0.9955 - val_loss: 1.2842 - val_acc: 0.8430\n",
            "Epoch 59/100\n",
            "100/100 [==============================] - 36s 357ms/step - loss: 0.0177 - acc: 0.9960 - val_loss: 1.2942 - val_acc: 0.8580\n",
            "Epoch 60/100\n",
            "100/100 [==============================] - 35s 351ms/step - loss: 0.0108 - acc: 0.9965 - val_loss: 1.2749 - val_acc: 0.8520\n",
            "Epoch 61/100\n",
            " 84/100 [========================>.....] - ETA: 4s - loss: 0.0181 - acc: 0.9935"
          ],
          "name": "stdout"
        },
        {
          "output_type": "stream",
          "text": [
            "100/100 [==============================] - 36s 358ms/step - loss: 0.0169 - acc: 0.9940 - val_loss: 1.2293 - val_acc: 0.8430\n",
            "Epoch 62/100\n",
            "100/100 [==============================] - 35s 352ms/step - loss: 0.0069 - acc: 0.9980 - val_loss: 1.2908 - val_acc: 0.8460\n",
            "Epoch 63/100\n",
            "100/100 [==============================] - 36s 356ms/step - loss: 0.0059 - acc: 0.9975 - val_loss: 1.3012 - val_acc: 0.8490\n",
            "Epoch 64/100\n",
            " 84/100 [========================>.....] - ETA: 4s - loss: 0.0115 - acc: 0.9952"
          ],
          "name": "stdout"
        },
        {
          "output_type": "stream",
          "text": [
            "100/100 [==============================] - 36s 360ms/step - loss: 0.0102 - acc: 0.9960 - val_loss: 1.3057 - val_acc: 0.8520\n",
            "Epoch 65/100\n",
            "100/100 [==============================] - 35s 351ms/step - loss: 0.0050 - acc: 0.9985 - val_loss: 1.3162 - val_acc: 0.8560\n",
            "Epoch 66/100\n",
            "100/100 [==============================] - 36s 357ms/step - loss: 0.0089 - acc: 0.9975 - val_loss: 1.3743 - val_acc: 0.8500\n",
            "Epoch 67/100\n",
            " 84/100 [========================>.....] - ETA: 4s - loss: 0.0103 - acc: 0.9970"
          ],
          "name": "stdout"
        },
        {
          "output_type": "stream",
          "text": [
            "100/100 [==============================] - 35s 353ms/step - loss: 0.0090 - acc: 0.9975 - val_loss: 1.3869 - val_acc: 0.8410\n",
            "Epoch 68/100\n",
            "100/100 [==============================] - 36s 356ms/step - loss: 0.0082 - acc: 0.9970 - val_loss: 1.4472 - val_acc: 0.8530\n",
            "Epoch 69/100\n",
            "100/100 [==============================] - 36s 357ms/step - loss: 0.0093 - acc: 0.9985 - val_loss: 1.4331 - val_acc: 0.8530\n",
            "Epoch 70/100\n",
            " 83/100 [=======================>......] - ETA: 4s - loss: 0.0069 - acc: 0.9982"
          ],
          "name": "stdout"
        },
        {
          "output_type": "stream",
          "text": [
            "100/100 [==============================] - 35s 352ms/step - loss: 0.0059 - acc: 0.9985 - val_loss: 1.3724 - val_acc: 0.8500\n",
            "Epoch 71/100\n",
            "100/100 [==============================] - 36s 359ms/step - loss: 0.0088 - acc: 0.9975 - val_loss: 1.5556 - val_acc: 0.8470\n",
            "Epoch 72/100\n",
            "100/100 [==============================] - 35s 351ms/step - loss: 0.0085 - acc: 0.9975 - val_loss: 1.4408 - val_acc: 0.8450\n",
            "Epoch 73/100\n",
            " 84/100 [========================>.....] - ETA: 4s - loss: 0.0012 - acc: 1.0000"
          ],
          "name": "stdout"
        },
        {
          "output_type": "stream",
          "text": [
            "100/100 [==============================] - 36s 358ms/step - loss: 0.0030 - acc: 0.9995 - val_loss: 1.4082 - val_acc: 0.8460\n",
            "Epoch 74/100\n",
            "100/100 [==============================] - 35s 350ms/step - loss: 0.0087 - acc: 0.9970 - val_loss: 1.4171 - val_acc: 0.8620\n",
            "Epoch 75/100\n",
            "100/100 [==============================] - 35s 355ms/step - loss: 0.0047 - acc: 0.9970 - val_loss: 1.4538 - val_acc: 0.8620\n",
            "Epoch 76/100\n",
            " 84/100 [========================>.....] - ETA: 4s - loss: 0.0062 - acc: 0.9970"
          ],
          "name": "stdout"
        },
        {
          "output_type": "stream",
          "text": [
            "100/100 [==============================] - 36s 356ms/step - loss: 0.0053 - acc: 0.9975 - val_loss: 1.3797 - val_acc: 0.8550\n",
            "Epoch 77/100\n",
            "100/100 [==============================] - 35s 352ms/step - loss: 0.0091 - acc: 0.9970 - val_loss: 1.4174 - val_acc: 0.8550\n",
            "Epoch 78/100\n",
            "100/100 [==============================] - 36s 359ms/step - loss: 0.0083 - acc: 0.9960 - val_loss: 1.3795 - val_acc: 0.8530\n",
            "Epoch 79/100\n",
            " 84/100 [========================>.....] - ETA: 4s - loss: 0.0056 - acc: 0.9976"
          ],
          "name": "stdout"
        },
        {
          "output_type": "stream",
          "text": [
            "100/100 [==============================] - 35s 351ms/step - loss: 0.0051 - acc: 0.9980 - val_loss: 1.5635 - val_acc: 0.8580\n",
            "Epoch 80/100\n",
            "100/100 [==============================] - 36s 359ms/step - loss: 0.0045 - acc: 0.9990 - val_loss: 1.6347 - val_acc: 0.8450\n",
            "Epoch 81/100\n",
            "100/100 [==============================] - 36s 359ms/step - loss: 0.0077 - acc: 0.9970 - val_loss: 1.4447 - val_acc: 0.8570\n",
            "Epoch 82/100\n",
            " 84/100 [========================>.....] - ETA: 4s - loss: 0.0062 - acc: 0.9988"
          ],
          "name": "stdout"
        },
        {
          "output_type": "stream",
          "text": [
            "100/100 [==============================] - 35s 352ms/step - loss: 0.0070 - acc: 0.9985 - val_loss: 1.5856 - val_acc: 0.8580\n",
            "Epoch 83/100\n",
            "100/100 [==============================] - 36s 359ms/step - loss: 0.0036 - acc: 0.9990 - val_loss: 1.4328 - val_acc: 0.8590\n",
            "Epoch 84/100\n",
            "100/100 [==============================] - 35s 354ms/step - loss: 0.0121 - acc: 0.9970 - val_loss: 1.4842 - val_acc: 0.8420\n",
            "Epoch 85/100\n",
            " 84/100 [========================>.....] - ETA: 4s - loss: 0.0021 - acc: 0.9994"
          ],
          "name": "stdout"
        },
        {
          "output_type": "stream",
          "text": [
            "100/100 [==============================] - 36s 356ms/step - loss: 0.0022 - acc: 0.9995 - val_loss: 1.5031 - val_acc: 0.8440\n",
            "Epoch 86/100\n",
            "100/100 [==============================] - 36s 361ms/step - loss: 0.0030 - acc: 0.9990 - val_loss: 1.4864 - val_acc: 0.8500\n",
            "Epoch 87/100\n",
            "100/100 [==============================] - 35s 351ms/step - loss: 0.0192 - acc: 0.9965 - val_loss: 1.4617 - val_acc: 0.8520\n",
            "Epoch 88/100\n",
            " 84/100 [========================>.....] - ETA: 4s - loss: 0.0041 - acc: 0.9976"
          ],
          "name": "stdout"
        },
        {
          "output_type": "stream",
          "text": [
            "100/100 [==============================] - 36s 360ms/step - loss: 0.0043 - acc: 0.9975 - val_loss: 1.4526 - val_acc: 0.8380\n",
            "Epoch 89/100\n",
            "100/100 [==============================] - 35s 352ms/step - loss: 0.0039 - acc: 0.9990 - val_loss: 1.4300 - val_acc: 0.8490\n",
            "Epoch 90/100\n",
            "100/100 [==============================] - 36s 361ms/step - loss: 0.0031 - acc: 0.9985 - val_loss: 1.4599 - val_acc: 0.8580\n",
            "Epoch 91/100\n",
            " 84/100 [========================>.....] - ETA: 4s - loss: 0.0153 - acc: 0.9970"
          ],
          "name": "stdout"
        },
        {
          "output_type": "stream",
          "text": [
            "100/100 [==============================] - 36s 360ms/step - loss: 0.0150 - acc: 0.9970 - val_loss: 1.6252 - val_acc: 0.8450\n",
            "Epoch 92/100\n",
            "100/100 [==============================] - 35s 351ms/step - loss: 0.0094 - acc: 0.9970 - val_loss: 1.4406 - val_acc: 0.8550\n",
            "Epoch 93/100\n",
            "100/100 [==============================] - 36s 355ms/step - loss: 0.0158 - acc: 0.9960 - val_loss: 1.4614 - val_acc: 0.8490\n",
            "Epoch 94/100\n",
            " 84/100 [========================>.....] - ETA: 4s - loss: 0.0028 - acc: 0.9988"
          ],
          "name": "stdout"
        },
        {
          "output_type": "stream",
          "text": [
            "100/100 [==============================] - 35s 350ms/step - loss: 0.0024 - acc: 0.9990 - val_loss: 1.4444 - val_acc: 0.8540\n",
            "Epoch 95/100\n",
            "100/100 [==============================] - 36s 357ms/step - loss: 0.0076 - acc: 0.9970 - val_loss: 1.4566 - val_acc: 0.8570\n",
            "Epoch 96/100\n",
            "100/100 [==============================] - 35s 354ms/step - loss: 0.0060 - acc: 0.9985 - val_loss: 1.4655 - val_acc: 0.8560\n",
            "Epoch 97/100\n",
            " 84/100 [========================>.....] - ETA: 4s - loss: 0.0026 - acc: 0.9994"
          ],
          "name": "stdout"
        },
        {
          "output_type": "stream",
          "text": [
            "100/100 [==============================] - 36s 356ms/step - loss: 0.0064 - acc: 0.9975 - val_loss: 1.5524 - val_acc: 0.8400\n",
            "Epoch 98/100\n",
            "100/100 [==============================] - 36s 357ms/step - loss: 0.0055 - acc: 0.9970 - val_loss: 1.4849 - val_acc: 0.8550\n",
            "Epoch 99/100\n",
            "100/100 [==============================] - 35s 351ms/step - loss: 0.0061 - acc: 0.9980 - val_loss: 1.4590 - val_acc: 0.8500\n",
            "Epoch 100/100\n",
            " 84/100 [========================>.....] - ETA: 4s - loss: 0.0038 - acc: 0.9988"
          ],
          "name": "stdout"
        },
        {
          "output_type": "stream",
          "text": [
            "100/100 [==============================] - 36s 357ms/step - loss: 0.0050 - acc: 0.9985 - val_loss: 1.4766 - val_acc: 0.8570\n"
          ],
          "name": "stdout"
        }
      ]
    },
    {
      "metadata": {
        "id": "k2qCvCP5pPjW",
        "colab_type": "code",
        "colab": {}
      },
      "cell_type": "code",
      "source": [
        "model.save('gendersmall_3.h5')"
      ],
      "execution_count": 0,
      "outputs": []
    },
    {
      "metadata": {
        "id": "BiuWtN6OLZm7",
        "colab_type": "code",
        "colab": {
          "base_uri": "https://localhost:8080/",
          "height": 707
        },
        "outputId": "ccd2e679-91ae-49a1-8e31-500d4195d0d0"
      },
      "cell_type": "code",
      "source": [
        "import matplotlib.pyplot as plt\n",
        "acc = history.history['acc']\n",
        "val_acc = history.history['val_acc']\n",
        "loss = history.history['loss']\n",
        "val_loss = history.history['val_loss']\n",
        "\n",
        "epochs = range(len(acc))\n",
        "\n",
        "plt.plot(epochs, acc, 'bo', label='Training acc')\n",
        "plt.plot(epochs, val_acc, 'b', label='Validation acc')\n",
        "plt.title('Training and validation accuracy')\n",
        "plt.legend()\n",
        "\n",
        "plt.figure()\n",
        "\n",
        "plt.plot(epochs, loss, 'bo', label='Training loss')\n",
        "plt.plot(epochs, val_loss, 'b', label='Validation loss')\n",
        "plt.title('Training and validation loss')\n",
        "plt.legend()\n",
        "\n",
        "plt.show()"
      ],
      "execution_count": 33,
      "outputs": [
        {
          "output_type": "display_data",
          "data": {
            "image/png": "[encoded data removed]",
            "text/plain": [
              "<matplotlib.figure.Figure at 0x7fddfa310dd0>"
            ]
          },
          "metadata": {
            "tags": []
          }
        },
        {
          "output_type": "display_data",
          "data": {
            "image/png": "[encoded data removed]",
            "text/plain": [
              "<matplotlib.figure.Figure at 0x7fddfa2e5350>"
            ]
          },
          "metadata": {
            "tags": []
          }
        }
      ]
    },
    {
      "metadata": {
        "id": "Um1cj_dkL91l",
        "colab_type": "code",
        "colab": {}
      },
      "cell_type": "code",
      "source": [
        ""
      ],
      "execution_count": 0,
      "outputs": []
    }
  ]
}