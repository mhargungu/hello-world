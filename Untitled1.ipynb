{
  "nbformat": 4,
  "nbformat_minor": 0,
  "metadata": {
    "colab": {
      "name": "Untitled1.ipynb",
      "version": "0.3.2",
      "provenance": []
    },
    "kernelspec": {
      "name": "python3",
      "display_name": "Python 3"
    },
    "accelerator": "GPU"
  },
  "cells": [
    {
      "cell_type": "markdown",
      "metadata": {
        "id": "view-in-github",
        "colab_type": "text"
      },
      "source": [
        "[View in Colaboratory](https://colab.research.google.com/github/mhargungu/hello-world/blob/master/Untitled1.ipynb)"
      ]
    },
    {
      "metadata": {
        "id": "_QCZhpCXSZlp",
        "colab_type": "code",
        "colab": {
          "base_uri": "https://localhost:8080/",
          "height": 177
        },
        "outputId": "23ad32c2-bd21-4bb5-aa55-f1ecf463dc87"
      },
      "cell_type": "code",
      "source": [
        "!apt-get install -y -qq software-properties-common python-software-properties module-init-tools\n",
        "!add-apt-repository -y ppa:alessandro-strada/ppa 2>&1 > /dev/null\n",
        "!apt-get update -qq 2>&1 > /dev/null\n",
        "!apt-get -y install -qq google-drive-ocamlfuse fuse\n",
        "from google.colab import auth\n",
        "auth.authenticate_user()\n",
        "from oauth2client.client import GoogleCredentials\n",
        "creds = GoogleCredentials.get_application_default()\n",
        "import getpass\n",
        "!google-drive-ocamlfuse -headless -id={creds.client_id} -secret={creds.client_secret} < /dev/null 2>&1 | grep URL\n",
        "vcode = getpass.getpass()\n",
        "!echo {vcode} | google-drive-ocamlfuse -headless -id={creds.client_id} -secret={creds.client_secret}\n",
        "\n",
        "!mkdir -p drive\n",
        "!google-drive-ocamlfuse drive"
      ],
      "execution_count": 1,
      "outputs": [
        {
          "output_type": "stream",
          "text": [
            "gpg: keybox '/tmp/tmpq28nnehx/pubring.gpg' created\n",
            "gpg: /tmp/tmpq28nnehx/trustdb.gpg: trustdb created\n",
            "gpg: key AD5F235DF639B041: public key \"Launchpad PPA for Alessandro Strada\" imported\n",
            "gpg: Total number processed: 1\n",
            "gpg:               imported: 1\n",
            "Warning: apt-key output should not be parsed (stdout is not a terminal)\n",
            "··········\n",
            "fuse: mountpoint is not empty\n",
            "fuse: if you are sure this is safe, use the 'nonempty' mount option\n"
          ],
          "name": "stdout"
        }
      ]
    },
    {
      "metadata": {
        "id": "0GUoIM1RSrrd",
        "colab_type": "code",
        "colab": {}
      },
      "cell_type": "code",
      "source": [
        "!mkdir -p drive\n",
        "!google-drive-ocamlfuse drive -o nonempty"
      ],
      "execution_count": 0,
      "outputs": []
    },
    {
      "metadata": {
        "id": "-dDfs6QZTDd8",
        "colab_type": "code",
        "colab": {
          "base_uri": "https://localhost:8080/",
          "height": 783
        },
        "outputId": "14d9558a-fb99-4526-feb6-42b199ba2ffd"
      },
      "cell_type": "code",
      "source": [
        "!python drive/vgg16_bottleneck_features_xval.py"
      ],
      "execution_count": 3,
      "outputs": [
        {
          "output_type": "stream",
          "text": [
            "/usr/local/lib/python3.6/dist-packages/h5py/__init__.py:36: FutureWarning: Conversion of the second argument of issubdtype from `float` to `np.floating` is deprecated. In future, it will be treated as `np.float64 == np.dtype(float).type`.\r\n",
            "  from ._conv import register_converters as _register_converters\n",
            "Using TensorFlow backend.\n",
            "extracting and saving features ...\n",
            "using an image size of  (500, 500)\n",
            "2018-04-30 02:05:59.604353: I tensorflow/stream_executor/cuda/cuda_gpu_executor.cc:898] successful NUMA node read from SysFS had negative value (-1), but there must be at least one NUMA node, so returning NUMA node zero\n",
            "2018-04-30 02:05:59.604801: I tensorflow/core/common_runtime/gpu/gpu_device.cc:1344] Found device 0 with properties: \n",
            "name: Tesla K80 major: 3 minor: 7 memoryClockRate(GHz): 0.8235\n",
            "pciBusID: 0000:00:04.0\n",
            "totalMemory: 11.17GiB freeMemory: 11.10GiB\n",
            "2018-04-30 02:05:59.604852: I tensorflow/core/common_runtime/gpu/gpu_device.cc:1423] Adding visible gpu devices: 0\n",
            "2018-04-30 02:05:59.920641: I tensorflow/core/common_runtime/gpu/gpu_device.cc:911] Device interconnect StreamExecutor with strength 1 edge matrix:\n",
            "2018-04-30 02:05:59.920703: I tensorflow/core/common_runtime/gpu/gpu_device.cc:917]      0 \n",
            "2018-04-30 02:05:59.920729: I tensorflow/core/common_runtime/gpu/gpu_device.cc:930] 0:   N \n",
            "2018-04-30 02:05:59.921071: I tensorflow/core/common_runtime/gpu/gpu_device.cc:1041] Created TensorFlow device (/job:localhost/replica:0/task:0/device:GPU:0 with 10765 MB memory) -> physical GPU (device: 0, name: Tesla K80, pci bus id: 0000:00:04.0, compute capability: 3.7)\n",
            "Found 2000 images belonging to 2 classes.\n",
            "Found 800 images belonging to 2 classes.\n",
            "loading features ...\n",
            "doing cross validation ...\n",
            "tcmalloc: large alloc 1290240000 bytes == 0x7f460d1c2000 @  0x7f47498a9107 0x7f47476c29a1 0x7f47477259a3 0x7f4747725a6a 0x7f47477c503b 0x7f47477c58a4 0x7f47477c59f2 0x4c4b0b 0x54f3c4 0x551ee0 0x54efc1 0x54f24d 0x551ee0 0x54efc1 0x54ff73 0x42b3c9 0x42b5b5 0x44182b 0x421f64 0x7f47486f21c1 0x42201a (nil)\n",
            "evaluating fold 0\n",
            "validation loss is 2.335693379810883 and accuracy is 0.8535714268684387\n",
            "evaluating fold 1\n",
            "validation loss is 8.059047842251678 and accuracy is 0.5\n",
            "evaluating fold 2\n",
            "validation loss is 1.1450172083718435 and accuracy is 0.9285714302744185\n",
            "evaluating fold 3\n",
            "validation loss is 1.7206634555544171 and accuracy is 0.8928571428571429\n",
            "evaluating fold 4\n",
            "validation loss is 1.086197513701043 and accuracy is 0.932142858845847\n",
            "evaluating fold 5\n",
            "validation loss is 1.9553147374937525 and accuracy is 0.8785714285714286\n",
            "evaluating fold 6\n",
            "validation loss is 2.39706795556206 and accuracy is 0.8464285714285714\n",
            "evaluating fold 7\n",
            "validation loss is 0.8628419035781544 and accuracy is 0.9464285697255815\n",
            "evaluating fold 8\n",
            "validation loss is 3.3387483940344995 and accuracy is 0.7928571437086378\n",
            "evaluating fold 9\n",
            "validation loss is 8.059047760508166 and accuracy is 0.5\n",
            "overall performance:\n",
            "0.80714% (+/- 0.15962%)\n"
          ],
          "name": "stdout"
        }
      ]
    },
    {
      "metadata": {
        "id": "osVD7iVoTIqX",
        "colab_type": "code",
        "colab": {}
      },
      "cell_type": "code",
      "source": [
        ""
      ],
      "execution_count": 0,
      "outputs": []
    }
  ]
}